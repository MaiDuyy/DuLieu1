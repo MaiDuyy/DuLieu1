{
 "cells": [
  {
   "cell_type": "code",
   "execution_count": 1,
   "metadata": {},
   "outputs": [],
   "source": [
    "import pandas as pd \n",
    "import seaborn as sns \n",
    "import matplotlib.pyplot as plt \n",
    "import numpy as np"
   ]
  },
  {
   "cell_type": "code",
   "execution_count": 13,
   "metadata": {},
   "outputs": [
    {
     "data": {
      "text/html": [
       "<div>\n",
       "<style scoped>\n",
       "    .dataframe tbody tr th:only-of-type {\n",
       "        vertical-align: middle;\n",
       "    }\n",
       "\n",
       "    .dataframe tbody tr th {\n",
       "        vertical-align: top;\n",
       "    }\n",
       "\n",
       "    .dataframe thead th {\n",
       "        text-align: right;\n",
       "    }\n",
       "</style>\n",
       "<table border=\"1\" class=\"dataframe\">\n",
       "  <thead>\n",
       "    <tr style=\"text-align: right;\">\n",
       "      <th></th>\n",
       "      <th>ORDERNUMBER</th>\n",
       "      <th>QUANTITYORDERED</th>\n",
       "      <th>ORDERLINENUMBER</th>\n",
       "      <th>SALES</th>\n",
       "      <th>ORDERDATE</th>\n",
       "      <th>STATUS</th>\n",
       "      <th>COUNTRY</th>\n",
       "      <th>DEALSIZE</th>\n",
       "      <th>Discount</th>\n",
       "      <th>Profit</th>\n",
       "    </tr>\n",
       "  </thead>\n",
       "  <tbody>\n",
       "    <tr>\n",
       "      <th>0</th>\n",
       "      <td>10107</td>\n",
       "      <td>30</td>\n",
       "      <td>2</td>\n",
       "      <td>2871.00</td>\n",
       "      <td>2003-02-24</td>\n",
       "      <td>Shipped</td>\n",
       "      <td>USA</td>\n",
       "      <td>Small</td>\n",
       "      <td>0.00</td>\n",
       "      <td>41.9136</td>\n",
       "    </tr>\n",
       "    <tr>\n",
       "      <th>1</th>\n",
       "      <td>10121</td>\n",
       "      <td>34</td>\n",
       "      <td>5</td>\n",
       "      <td>2765.90</td>\n",
       "      <td>2003-05-07</td>\n",
       "      <td>Shipped</td>\n",
       "      <td>France</td>\n",
       "      <td>Small</td>\n",
       "      <td>0.00</td>\n",
       "      <td>219.5820</td>\n",
       "    </tr>\n",
       "    <tr>\n",
       "      <th>2</th>\n",
       "      <td>10134</td>\n",
       "      <td>41</td>\n",
       "      <td>2</td>\n",
       "      <td>3884.34</td>\n",
       "      <td>2003-07-01</td>\n",
       "      <td>Shipped</td>\n",
       "      <td>France</td>\n",
       "      <td>Medium</td>\n",
       "      <td>0.00</td>\n",
       "      <td>6.8714</td>\n",
       "    </tr>\n",
       "    <tr>\n",
       "      <th>3</th>\n",
       "      <td>10145</td>\n",
       "      <td>45</td>\n",
       "      <td>6</td>\n",
       "      <td>3746.70</td>\n",
       "      <td>2003-08-25</td>\n",
       "      <td>Shipped</td>\n",
       "      <td>USA</td>\n",
       "      <td>Medium</td>\n",
       "      <td>0.45</td>\n",
       "      <td>-383.0310</td>\n",
       "    </tr>\n",
       "    <tr>\n",
       "      <th>4</th>\n",
       "      <td>10159</td>\n",
       "      <td>49</td>\n",
       "      <td>14</td>\n",
       "      <td>5205.27</td>\n",
       "      <td>2003-10-10</td>\n",
       "      <td>Shipped</td>\n",
       "      <td>USA</td>\n",
       "      <td>Medium</td>\n",
       "      <td>0.20</td>\n",
       "      <td>2.5164</td>\n",
       "    </tr>\n",
       "  </tbody>\n",
       "</table>\n",
       "</div>"
      ],
      "text/plain": [
       "   ORDERNUMBER  QUANTITYORDERED  ORDERLINENUMBER    SALES  ORDERDATE   STATUS  \\\n",
       "0        10107               30                2  2871.00 2003-02-24  Shipped   \n",
       "1        10121               34                5  2765.90 2003-05-07  Shipped   \n",
       "2        10134               41                2  3884.34 2003-07-01  Shipped   \n",
       "3        10145               45                6  3746.70 2003-08-25  Shipped   \n",
       "4        10159               49               14  5205.27 2003-10-10  Shipped   \n",
       "\n",
       "  COUNTRY DEALSIZE  Discount    Profit  \n",
       "0     USA    Small      0.00   41.9136  \n",
       "1  France    Small      0.00  219.5820  \n",
       "2  France   Medium      0.00    6.8714  \n",
       "3     USA   Medium      0.45 -383.0310  \n",
       "4     USA   Medium      0.20    2.5164  "
      ]
     },
     "execution_count": 13,
     "metadata": {},
     "output_type": "execute_result"
    }
   ],
   "source": [
    "# import data \n",
    "df = pd.read_excel(\"./data/sales_data_sample.xlsx\", sheet_name=\"saledata\")\n",
    "df.head()"
   ]
  },
  {
   "cell_type": "markdown",
   "metadata": {},
   "source": [
    "### 1. Hãy cho biết kích thước của dữ liệu\n",
    "Đáp án: (2823 dòng, 10 cột)"
   ]
  },
  {
   "cell_type": "code",
   "execution_count": 5,
   "metadata": {},
   "outputs": [
    {
     "data": {
      "text/plain": [
       "(2823, 10)"
      ]
     },
     "execution_count": 5,
     "metadata": {},
     "output_type": "execute_result"
    }
   ],
   "source": [
    "df.shape"
   ]
  },
  {
   "cell_type": "markdown",
   "metadata": {},
   "source": [
    "### 2. Hãy cho biết hóa đơn 10107 có bao nhiêu dòng sản phẩm \n",
    "Đáp án: 8 dòng"
   ]
  },
  {
   "cell_type": "code",
   "execution_count": 7,
   "metadata": {},
   "outputs": [
    {
     "data": {
      "text/html": [
       "<div>\n",
       "<style scoped>\n",
       "    .dataframe tbody tr th:only-of-type {\n",
       "        vertical-align: middle;\n",
       "    }\n",
       "\n",
       "    .dataframe tbody tr th {\n",
       "        vertical-align: top;\n",
       "    }\n",
       "\n",
       "    .dataframe thead th {\n",
       "        text-align: right;\n",
       "    }\n",
       "</style>\n",
       "<table border=\"1\" class=\"dataframe\">\n",
       "  <thead>\n",
       "    <tr style=\"text-align: right;\">\n",
       "      <th></th>\n",
       "      <th>ORDERNUMBER</th>\n",
       "      <th>QUANTITYORDERED</th>\n",
       "      <th>ORDERLINENUMBER</th>\n",
       "      <th>SALES</th>\n",
       "      <th>ORDERDATE</th>\n",
       "      <th>STATUS</th>\n",
       "      <th>COUNTRY</th>\n",
       "      <th>DEALSIZE</th>\n",
       "      <th>Discount</th>\n",
       "      <th>Profit</th>\n",
       "    </tr>\n",
       "  </thead>\n",
       "  <tbody>\n",
       "    <tr>\n",
       "      <th>0</th>\n",
       "      <td>10107</td>\n",
       "      <td>30</td>\n",
       "      <td>2</td>\n",
       "      <td>2871.00</td>\n",
       "      <td>2003-02-24</td>\n",
       "      <td>Shipped</td>\n",
       "      <td>USA</td>\n",
       "      <td>Small</td>\n",
       "      <td>0.0</td>\n",
       "      <td>41.9136</td>\n",
       "    </tr>\n",
       "    <tr>\n",
       "      <th>54</th>\n",
       "      <td>10107</td>\n",
       "      <td>39</td>\n",
       "      <td>5</td>\n",
       "      <td>3896.49</td>\n",
       "      <td>2003-02-24</td>\n",
       "      <td>Shipped</td>\n",
       "      <td>USA</td>\n",
       "      <td>Medium</td>\n",
       "      <td>0.0</td>\n",
       "      <td>298.6855</td>\n",
       "    </tr>\n",
       "    <tr>\n",
       "      <th>80</th>\n",
       "      <td>10107</td>\n",
       "      <td>27</td>\n",
       "      <td>4</td>\n",
       "      <td>6065.55</td>\n",
       "      <td>2003-02-24</td>\n",
       "      <td>Shipped</td>\n",
       "      <td>USA</td>\n",
       "      <td>Medium</td>\n",
       "      <td>0.0</td>\n",
       "      <td>8.0352</td>\n",
       "    </tr>\n",
       "    <tr>\n",
       "      <th>240</th>\n",
       "      <td>10107</td>\n",
       "      <td>21</td>\n",
       "      <td>1</td>\n",
       "      <td>3036.60</td>\n",
       "      <td>2003-02-24</td>\n",
       "      <td>Shipped</td>\n",
       "      <td>USA</td>\n",
       "      <td>Medium</td>\n",
       "      <td>0.2</td>\n",
       "      <td>11.1944</td>\n",
       "    </tr>\n",
       "    <tr>\n",
       "      <th>804</th>\n",
       "      <td>10107</td>\n",
       "      <td>29</td>\n",
       "      <td>6</td>\n",
       "      <td>2055.23</td>\n",
       "      <td>2003-02-24</td>\n",
       "      <td>Shipped</td>\n",
       "      <td>USA</td>\n",
       "      <td>Small</td>\n",
       "      <td>0.0</td>\n",
       "      <td>6.2152</td>\n",
       "    </tr>\n",
       "    <tr>\n",
       "      <th>1466</th>\n",
       "      <td>10107</td>\n",
       "      <td>25</td>\n",
       "      <td>3</td>\n",
       "      <td>2845.75</td>\n",
       "      <td>2003-02-24</td>\n",
       "      <td>Shipped</td>\n",
       "      <td>USA</td>\n",
       "      <td>Small</td>\n",
       "      <td>0.2</td>\n",
       "      <td>-10.7973</td>\n",
       "    </tr>\n",
       "    <tr>\n",
       "      <th>1564</th>\n",
       "      <td>10107</td>\n",
       "      <td>38</td>\n",
       "      <td>7</td>\n",
       "      <td>3155.14</td>\n",
       "      <td>2003-02-24</td>\n",
       "      <td>Shipped</td>\n",
       "      <td>USA</td>\n",
       "      <td>Medium</td>\n",
       "      <td>0.0</td>\n",
       "      <td>17.7450</td>\n",
       "    </tr>\n",
       "    <tr>\n",
       "      <th>2173</th>\n",
       "      <td>10107</td>\n",
       "      <td>20</td>\n",
       "      <td>8</td>\n",
       "      <td>1858.00</td>\n",
       "      <td>2003-02-24</td>\n",
       "      <td>Shipped</td>\n",
       "      <td>USA</td>\n",
       "      <td>Small</td>\n",
       "      <td>0.8</td>\n",
       "      <td>-13.8960</td>\n",
       "    </tr>\n",
       "  </tbody>\n",
       "</table>\n",
       "</div>"
      ],
      "text/plain": [
       "      ORDERNUMBER  QUANTITYORDERED  ORDERLINENUMBER    SALES  ORDERDATE  \\\n",
       "0           10107               30                2  2871.00 2003-02-24   \n",
       "54          10107               39                5  3896.49 2003-02-24   \n",
       "80          10107               27                4  6065.55 2003-02-24   \n",
       "240         10107               21                1  3036.60 2003-02-24   \n",
       "804         10107               29                6  2055.23 2003-02-24   \n",
       "1466        10107               25                3  2845.75 2003-02-24   \n",
       "1564        10107               38                7  3155.14 2003-02-24   \n",
       "2173        10107               20                8  1858.00 2003-02-24   \n",
       "\n",
       "       STATUS COUNTRY DEALSIZE  Discount    Profit  \n",
       "0     Shipped     USA    Small       0.0   41.9136  \n",
       "54    Shipped     USA   Medium       0.0  298.6855  \n",
       "80    Shipped     USA   Medium       0.0    8.0352  \n",
       "240   Shipped     USA   Medium       0.2   11.1944  \n",
       "804   Shipped     USA    Small       0.0    6.2152  \n",
       "1466  Shipped     USA    Small       0.2  -10.7973  \n",
       "1564  Shipped     USA   Medium       0.0   17.7450  \n",
       "2173  Shipped     USA    Small       0.8  -13.8960  "
      ]
     },
     "execution_count": 7,
     "metadata": {},
     "output_type": "execute_result"
    }
   ],
   "source": [
    "df[df['ORDERNUMBER'] == 10107]\n",
    "\n",
    "# df.loc[df['ORDERNUMBER'] == 10107]"
   ]
  },
  {
   "cell_type": "markdown",
   "metadata": {},
   "source": [
    "### 3. Hãy cho biết biểu đồ chỉ có 2 cột thuộc nhóm status nào \n",
    "Đáp án: 2 cột là Cancelled"
   ]
  },
  {
   "cell_type": "code",
   "execution_count": 9,
   "metadata": {},
   "outputs": [
    {
     "data": {
      "image/png": "[encoded data removed]",
      "text/plain": [
       "<Figure size 640x480 with 1 Axes>"
      ]
     },
     "metadata": {},
     "output_type": "display_data"
    }
   ],
   "source": [
    "sns.barplot(x='STATUS' ,y='QUANTITYORDERED' , hue='DEALSIZE', data=df , errorbar= None)\n",
    "plt.show()"
   ]
  },
  {
   "cell_type": "markdown",
   "metadata": {},
   "source": [
    "### 4. Có mối quan hệ nào giữa trạng thái giao hàng(STATUS) và giá trị đặt hàng (SALES)\n",
    "\n",
    "#### PR(>F) = 0.003661 < 0.05  (Đáp án có phụ thuộc)"
   ]
  },
  {
   "cell_type": "code",
   "execution_count": 10,
   "metadata": {},
   "outputs": [
    {
     "data": {
      "text/html": [
       "<div>\n",
       "<style scoped>\n",
       "    .dataframe tbody tr th:only-of-type {\n",
       "        vertical-align: middle;\n",
       "    }\n",
       "\n",
       "    .dataframe tbody tr th {\n",
       "        vertical-align: top;\n",
       "    }\n",
       "\n",
       "    .dataframe thead th {\n",
       "        text-align: right;\n",
       "    }\n",
       "</style>\n",
       "<table border=\"1\" class=\"dataframe\">\n",
       "  <thead>\n",
       "    <tr style=\"text-align: right;\">\n",
       "      <th></th>\n",
       "      <th>df</th>\n",
       "      <th>sum_sq</th>\n",
       "      <th>mean_sq</th>\n",
       "      <th>F</th>\n",
       "      <th>PR(&gt;F)</th>\n",
       "    </tr>\n",
       "  </thead>\n",
       "  <tbody>\n",
       "    <tr>\n",
       "      <th>STATUS</th>\n",
       "      <td>5.0</td>\n",
       "      <td>5.921801e+07</td>\n",
       "      <td>1.184360e+07</td>\n",
       "      <td>3.506652</td>\n",
       "      <td>0.003661</td>\n",
       "    </tr>\n",
       "    <tr>\n",
       "      <th>Residual</th>\n",
       "      <td>2817.0</td>\n",
       "      <td>9.514324e+09</td>\n",
       "      <td>3.377467e+06</td>\n",
       "      <td>NaN</td>\n",
       "      <td>NaN</td>\n",
       "    </tr>\n",
       "  </tbody>\n",
       "</table>\n",
       "</div>"
      ],
      "text/plain": [
       "              df        sum_sq       mean_sq         F    PR(>F)\n",
       "STATUS       5.0  5.921801e+07  1.184360e+07  3.506652  0.003661\n",
       "Residual  2817.0  9.514324e+09  3.377467e+06       NaN       NaN"
      ]
     },
     "execution_count": 10,
     "metadata": {},
     "output_type": "execute_result"
    }
   ],
   "source": [
    "import statsmodels.api as sm \n",
    "from statsmodels.formula.api import ols\n",
    "\n",
    "model = ols('SALES ~ STATUS',data= df ).fit()\n",
    "aov_table = sm.stats.anova_lm(model,typ =1 )\n",
    "aov_table"
   ]
  },
  {
   "cell_type": "markdown",
   "metadata": {},
   "source": [
    "### 5. Hãy cho biết dựa vào biểu đồ boxplot về doanh số trên từng nhóm kích thước đặt hàng thì yếu tố về kích thước đặt hành có vai trò trong việc dực báo giá trị đặt hàng hay không \n",
    "Đáp án : có "
   ]
  },
  {
   "cell_type": "code",
   "execution_count": 12,
   "metadata": {},
   "outputs": [],
   "source": [
    "# bởi vì các giá trị bán hàng khác nhau hết do đó yếu tố dealsize đóng vai trò quan trọng trong dự báo giá trị bán hàng"
   ]
  },
  {
   "cell_type": "code",
   "execution_count": 11,
   "metadata": {},
   "outputs": [
    {
     "data": {
      "image/png": "[encoded data removed]",
      "text/plain": [
       "<Figure size 640x480 with 1 Axes>"
      ]
     },
     "metadata": {},
     "output_type": "display_data"
    }
   ],
   "source": [
    "sns.boxplot(x='DEALSIZE', y= 'SALES', data = df)\n",
    "plt.show()"
   ]
  },
  {
   "cell_type": "markdown",
   "metadata": {},
   "source": [
    "### 6. Hãy cho biết dựa vào biểu đồ boxplot về doanh số trên từng nhóm kích thước đặt hàng, nếu có dữ liueej thiếu trên nhóm DEALSIZE = medium thì dữ liệu thiếu đó nên được thay thế bằng\n"
   ]
  },
  {
   "cell_type": "markdown",
   "metadata": {},
   "source": [
    "- a. Trung binh SALES của nhóm Small "
   ]
  },
  {
   "cell_type": "markdown",
   "metadata": {},
   "source": [
    "- b. Trung binh SALES của nhóm Large "
   ]
  },
  {
   "cell_type": "markdown",
   "metadata": {},
   "source": [
    "- c. Trung binh SALES của nhóm Medium "
   ]
  },
  {
   "cell_type": "markdown",
   "metadata": {},
   "source": [
    "- d. Trung binh giá trị SALES"
   ]
  },
  {
   "cell_type": "markdown",
   "metadata": {},
   "source": [
    "- e. Trung binh giá trị SALES của nhóm Small và Medium "
   ]
  },
  {
   "cell_type": "markdown",
   "metadata": {},
   "source": [
    "- f. Trung binh giá trị SALES của nhóm Large và Medium"
   ]
  },
  {
   "cell_type": "markdown",
   "metadata": {},
   "source": [
    "### 7. Nếu sử dụng One Hot Encoding(định tính thành định lượng) để số hóa dữ liệu DEALSIZE thì kết quả cuối cùng là bao nhiêu\n",
    "\n",
    "Đáp án: 0. 1. 0"
   ]
  },
  {
   "cell_type": "code",
   "execution_count": 13,
   "metadata": {},
   "outputs": [
    {
     "name": "stdout",
     "output_type": "stream",
     "text": [
      "[[0. 0. 1.]\n",
      " [0. 0. 1.]\n",
      " [0. 1. 0.]\n",
      " ...\n",
      " [0. 1. 0.]\n",
      " [0. 0. 1.]\n",
      " [0. 1. 0.]]\n"
     ]
    }
   ],
   "source": [
    "from sklearn.preprocessing import OneHotEncoder\n",
    "y = OneHotEncoder().fit_transform(df[['DEALSIZE']]).toarray()\n",
    "print(y)"
   ]
  },
  {
   "cell_type": "markdown",
   "metadata": {},
   "source": [
    "### 8. Nếu sử dụng Max Absolute Scaler cho SALES thì giá trị có index =100 được scale thành bao nhiêu\n",
    "\n",
    "Đáp án: SALES    0.212325"
   ]
  },
  {
   "cell_type": "code",
   "execution_count": 38,
   "metadata": {},
   "outputs": [
    {
     "name": "stdout",
     "output_type": "stream",
     "text": [
      "       SALES\n",
      "50  0.586162\n",
      "51  0.171597\n",
      "52  0.293992\n",
      "53  0.852174\n",
      "54  0.276684\n",
      "55  0.198388\n",
      "56  0.234880\n",
      "57  0.368744\n",
      "58  0.356238\n"
     ]
    }
   ],
   "source": [
    "from sklearn.preprocessing import MaxAbsScaler\n",
    "scaler = MaxAbsScaler()\n",
    "scaler.fit(df[[\"SALES\"]])\n",
    "scaled = scaler.transform(df[[\"SALES\"]])\n",
    "scaled_df= pd.DataFrame(scaled,columns=df[[\"SALES\"]].columns)\n",
    "print(scaled_df.iloc[50:59])"
   ]
  },
  {
   "cell_type": "markdown",
   "metadata": {},
   "source": [
    "### 9. Hãy sắp xếp giảm dần theo cho mức độ lệch của SALES sau khi được transform lần lượt qua hàm log, sqrt, square và cube root(luu ý lấy giá trị tuyệt đối sort giảm dần)"
   ]
  },
  {
   "cell_type": "code",
   "execution_count": 20,
   "metadata": {},
   "outputs": [
    {
     "name": "stdout",
     "output_type": "stream",
     "text": [
      "1.161076000881289\n",
      "-0.2021742362869817\n",
      "0.47281500087876144\n",
      "2.915766495908139\n",
      "0.25086487312083416\n"
     ]
    }
   ],
   "source": [
    "print(df['SALES'].skew())\n",
    "print(np.log(df['SALES']).skew())\n",
    "print(np.sqrt(df['SALES']).skew())\n",
    "print(np.square(df['SALES']).skew())\n",
    "print(np.cbrt(df['SALES']).skew())"
   ]
  },
  {
   "cell_type": "markdown",
   "metadata": {},
   "source": [
    "### 10.Hãy tính giá trị lệch của SALES sau khi được transform qua hàm f(x) = 1/(log(x)^2+1)\n",
    "Đáp án: 0.7679976616615047"
   ]
  },
  {
   "cell_type": "code",
   "execution_count": 21,
   "metadata": {},
   "outputs": [
    {
     "name": "stdout",
     "output_type": "stream",
     "text": [
      "0.7679976616615047\n"
     ]
    },
    {
     "data": {
      "text/plain": [
       "[]"
      ]
     },
     "execution_count": 21,
     "metadata": {},
     "output_type": "execute_result"
    },
    {
     "data": {
      "image/png": "[encoded data removed]",
      "text/plain": [
       "<Figure size 640x480 with 1 Axes>"
      ]
     },
     "metadata": {},
     "output_type": "display_data"
    }
   ],
   "source": [
    "def fx(x): \n",
    "    return 1/(np.log(x)**2+1)\n",
    "\n",
    "sales_trans = fx(df['SALES'])\n",
    "print(sales_trans.skew())\n",
    "sales_trans.hist()\n",
    "plt.plot()"
   ]
  },
  {
   "cell_type": "markdown",
   "metadata": {},
   "source": [
    "### 11.  Nếu sử dụng Z-Score Scaler cho SALES thì giá trị 10000 sẽ được scale thành bao nhiêu"
   ]
  },
  {
   "cell_type": "code",
   "execution_count": 6,
   "metadata": {},
   "outputs": [
    {
     "data": {
      "text/plain": [
       "3.5"
      ]
     },
     "execution_count": 6,
     "metadata": {},
     "output_type": "execute_result"
    }
   ],
   "source": [
    "from scipy.stats import zscore\n",
    "df['SALES_ZSCORE'] = zscore(df['SALES'])\n",
    "\n",
    "# Tính giá trị Z-Score của 10000\n",
    "mean_sales = df['SALES'].mean()\n",
    "std_sales = df['SALES'].std()\n",
    "z_score_10000 = (10000 - mean_sales) / std_sales\n",
    "z_score_10000.round(2)\n"
   ]
  },
  {
   "cell_type": "markdown",
   "metadata": {},
   "source": [
    " ### 12.\n",
    "Hãy cho biết mức độ lệch của SALES sau khi được transform qua hàm log\n",
    "\n",
    "a. Lệch nhiều hơn ban đầu\n",
    "\n",
    "b. Lệch ngược chiều với ban đầu\n",
    "\n",
    "c. Lệch cùng chiều với ban đầu\n",
    "\n",
    "d. Lệch ít hơn ban đầu\n",
    "\n",
    "e. Lệch bằng với ban đầu\n",
    "\n",
    "f. Không lệch, tức độ lệch = 0\n"
   ]
  },
  {
   "cell_type": "code",
   "execution_count": 7,
   "metadata": {},
   "outputs": [
    {
     "data": {
      "text/plain": [
       "(1.160458972499323, -0.20150542936667845)"
      ]
     },
     "execution_count": 7,
     "metadata": {},
     "output_type": "execute_result"
    }
   ],
   "source": [
    "import scipy.stats as stats\n",
    "\n",
    "# Tính độ lệch (skewness) của SALES ban đầu\n",
    "skewness_before = stats.skew(df['SALES'])\n",
    "\n",
    "# Tính độ lệch (skewness) sau khi áp dụng log transform\n",
    "df['SALES_LOG'] = np.log1p(df['SALES'])  # log1p(x) = log(1 + x), giúp tránh log(0)\n",
    "skewness_after = stats.skew(df['SALES_LOG'])\n",
    "\n",
    "# Xác định mức độ thay đổi của skewness\n",
    "skewness_before, skewness_after"
   ]
  },
  {
   "cell_type": "markdown",
   "metadata": {},
   "source": [
    "### 13. Hãy cho biết tương quan mẫu của QUANTITYORDERED và SALES\n",
    "\n",
    "\n",
    "a.\n",
    "Tương quan hoàn hảo\n",
    "\n",
    "\n",
    "b.\n",
    "Không tương quan\n",
    "\n",
    "\n",
    "c.\n",
    "Tương quan\n",
    "\n",
    "\n",
    "d.\n",
    "Tương quan yếu\n",
    "\n",
    "\n",
    "e.\n",
    "Tương quan rất tốt\n",
    "\n",
    "\n",
    "f.\n",
    "Tương quan nghịch\n",
    "\n",
    "\n",
    "g.\n",
    "Tương quan thuận"
   ]
  },
  {
   "cell_type": "code",
   "execution_count": 8,
   "metadata": {},
   "outputs": [
    {
     "data": {
      "text/plain": [
       "0.551426191918359"
      ]
     },
     "execution_count": 8,
     "metadata": {},
     "output_type": "execute_result"
    }
   ],
   "source": [
    "# Tính hệ số tương quan giữa QUANTITYORDERED và SALES\n",
    "correlation = df[['QUANTITYORDERED', 'SALES']].corr().iloc[0, 1]\n",
    "\n",
    "# Xác định mức độ tương quan\n",
    "correlation"
   ]
  },
  {
   "cell_type": "markdown",
   "metadata": {},
   "source": [
    "### 14. Hãy cho biết trung bình doanh số ở trạng thái giao hàng là \"hold on\" có màu gì "
   ]
  },
  {
   "cell_type": "code",
   "execution_count": 49,
   "metadata": {},
   "outputs": [
    {
     "name": "stderr",
     "output_type": "stream",
     "text": [
      "C:\\Users\\tizga\\AppData\\Local\\Temp\\ipykernel_10808\\2076778094.py:4: FutureWarning: \n",
      "\n",
      "Passing `palette` without assigning `hue` is deprecated and will be removed in v0.14.0. Assign the `x` variable to `hue` and set `legend=False` for the same effect.\n",
      "\n",
      "  sns.barplot(x=average_sales_by_status.index, y=average_sales_by_status.values, palette=\"viridis\")\n"
     ]
    },
    {
     "data": {
      "image/png": "[encoded data removed]",
      "text/plain": [
       "<Figure size 640x480 with 1 Axes>"
      ]
     },
     "metadata": {},
     "output_type": "display_data"
    }
   ],
   "source": [
    "\n",
    "average_sales_by_status = df.groupby('STATUS')['SALES'].mean()\n",
    "average_sales_by_status\n",
    "\n",
    "sns.barplot(x=average_sales_by_status.index, y=average_sales_by_status.values, palette=\"viridis\")\n",
    "\n",
    "\n",
    "plt.show()\n"
   ]
  },
  {
   "cell_type": "markdown",
   "metadata": {},
   "source": [
    "### 15. You said:\n",
    "Nếu sử dụng Min-Max Scaler cho SALES thì giá trị có index từ 50 đên 59 được scale thành bao nhiêu\n",
    "\n",
    "a.\n",
    "0.571492 0.142230 0.268965 0.846934 0.251044 0.169972 0.207757 0.346367 0.333417 0.233724\n",
    "\n",
    "\n",
    "b.\n",
    "0.571492 0.142230 0.268965 0.846934 0.251044 0.169972 0.207757 0.346367 0.333417 1.233724\n",
    "\n",
    "\n",
    "c.\n",
    "0.971492 0.142230 0.268965 0.846934 0.251044 0.169972 0.207757 0.346367 0.333417 0.233724\n",
    "\n",
    "\n",
    "d.\n",
    "0.571492 0.142230 1.268965 0.846934 0.251044 0.169972 0.207757 0.346367 0.333417 0.233724\n",
    "\n",
    "\n",
    "e.\n",
    "1.571492 0.142230 0.268965 0.846934 0.251044 0.169972 0.207757 0.346367 0.333417 0.233724\n",
    "đáp án nào là đáp án đúng"
   ]
  },
  {
   "cell_type": "code",
   "execution_count": 37,
   "metadata": {},
   "outputs": [
    {
     "data": {
      "text/plain": [
       "array([0.5714917 , 0.14223049, 0.26896469, 0.84693401, 0.25104351,\n",
       "       0.16997177, 0.20775741, 0.34636676, 0.3334174 , 0.23372378])"
      ]
     },
     "execution_count": 37,
     "metadata": {},
     "output_type": "execute_result"
    }
   ],
   "source": [
    "from sklearn.preprocessing import MinMaxScaler\n",
    "\n",
    "# Áp dụng Min-Max Scaler cho cột SALES\n",
    "scaler = MinMaxScaler()\n",
    "df['SALES_MINMAX'] = scaler.fit_transform(df[['SALES']])\n",
    "\n",
    "# Lấy giá trị được scale của các index từ 50 đến 59\n",
    "scaled_values = df.loc[50:59, 'SALES_MINMAX'].values\n",
    "\n",
    "# Hiển thị kết quả\n",
    "scaled_values"
   ]
  }
 ],
 "metadata": {
  "kernelspec": {
   "display_name": "base",
   "language": "python",
   "name": "python3"
  },
  "language_info": {
   "codemirror_mode": {
    "name": "ipython",
    "version": 3
   },
   "file_extension": ".py",
   "mimetype": "text/x-python",
   "name": "python",
   "nbconvert_exporter": "python",
   "pygments_lexer": "ipython3",
   "version": "3.12.7"
  }
 },
 "nbformat": 4,
 "nbformat_minor": 2
}
