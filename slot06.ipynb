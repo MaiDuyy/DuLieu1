{
 "cells": [
  {
   "cell_type": "markdown",
   "metadata": {},
   "source": [
    "# Khái niệm Cây quyết định(Decision Tree) - Supervied\n",
    "\n",
    "- Cây quyết định (Decision Tree) là một cây phân cấp có cấu trúc được dùng để phân lớp các đối tượng dựa vào dây\n",
    "- Các thuộc tính của đối tượng có thể thuộc các kiểu dữ liệu khác nhau như Nhị phân (Binary), Định danh\n",
    "(Nominal), Thứ tự (Ordinal), Số lượng (Quantitative) trong khi đỏ thuộc tính phân lớp phải có kiểu dữ liệu là Binary hoặc Ordinal.\n",
    "Tóm lai, cho dữ liệu về các đối tượng gồm các thuộc tính cùng với lớp (classes) của nó, cây quyết định sẽ sinh ra các luật để dự đoán lớp của các dữ liệu chưa biết.\n",
    "Cây quyết định được xây dựng dựa trên kỹ thuật học máy giám sát\n",
    "Ta hãy xét một ví dụ 1 kính điển khác vẽ cây quyết định. Giả sử dựa theo thời tiết mà các bạn nam sẽ quyết định"
   ]
  },
  {
   "cell_type": "markdown",
   "metadata": {},
   "source": [
    "- Những đặc trưng ban đầu\n",
    "1. thời tiết\n",
    "2. gió\n",
    "3. mưa \n",
    "- đặc điểm của cây quyết định, các nốt trong là các yếu tố(tên cột dữ liệu), các giá trị của các cột dữ liueej tương ứng, quyết định nằm ở nốt lá\n"
   ]
  },
  {
   "cell_type": "markdown",
   "metadata": {},
   "source": [
    "- giải thuật ID3\n",
    "\n",
    "value(Ốm, tốt),(u ám, nắng, mưa) ID3 lable()"
   ]
  },
  {
   "cell_type": "markdown",
   "metadata": {},
   "source": [
    "# Entropy \n",
    "- là hàm số mà giá trị của hàm số thể hiện thước đo của sự biến đổi, hỗn loạn hoặc ngẫu nhiên của dữ liệu.\n",
    "entropy càn nhỏ thì mức độ hỗn loạn thâp, entropy cao thì mức độ hỗn loạn cao.\n",
    "\n",
    "- Mức độ hỗn loạn càng thấp thì dễ đưa ra quyết định, ngược lại cao thì khó đưa ra quyết định\n",
    "\n"
   ]
  }
 ],
 "metadata": {
  "kernelspec": {
   "display_name": "base",
   "language": "python",
   "name": "python3"
  },
  "language_info": {
   "name": "python",
   "version": "3.12.7"
  }
 },
 "nbformat": 4,
 "nbformat_minor": 2
}
