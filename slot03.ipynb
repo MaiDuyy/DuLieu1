{
 "cells": [
  {
   "cell_type": "code",
   "execution_count": 3,
   "metadata": {},
   "outputs": [],
   "source": [
    "# Chú ý \n",
    "# Độc lập là không phụ thuộc\n",
    "# Không độc lập là Phụ thuộc"
   ]
  },
  {
   "cell_type": "code",
   "execution_count": 4,
   "metadata": {},
   "outputs": [
    {
     "data": {
      "text/html": [
       "<div>\n",
       "<style scoped>\n",
       "    .dataframe tbody tr th:only-of-type {\n",
       "        vertical-align: middle;\n",
       "    }\n",
       "\n",
       "    .dataframe tbody tr th {\n",
       "        vertical-align: top;\n",
       "    }\n",
       "\n",
       "    .dataframe thead th {\n",
       "        text-align: right;\n",
       "    }\n",
       "</style>\n",
       "<table border=\"1\" class=\"dataframe\">\n",
       "  <thead>\n",
       "    <tr style=\"text-align: right;\">\n",
       "      <th></th>\n",
       "      <th>MSSV</th>\n",
       "      <th>GT</th>\n",
       "      <th>DT</th>\n",
       "      <th>KV</th>\n",
       "      <th>M1</th>\n",
       "      <th>M2</th>\n",
       "      <th>M3</th>\n",
       "      <th>KT</th>\n",
       "      <th>NT</th>\n",
       "      <th>NGHE</th>\n",
       "    </tr>\n",
       "  </thead>\n",
       "  <tbody>\n",
       "    <tr>\n",
       "      <th>0</th>\n",
       "      <td>SV001</td>\n",
       "      <td>F</td>\n",
       "      <td>NaN</td>\n",
       "      <td>2NT</td>\n",
       "      <td>3.25</td>\n",
       "      <td>3.25</td>\n",
       "      <td>4.50</td>\n",
       "      <td>A1</td>\n",
       "      <td>12/7/2018</td>\n",
       "      <td>No</td>\n",
       "    </tr>\n",
       "    <tr>\n",
       "      <th>1</th>\n",
       "      <td>SV002</td>\n",
       "      <td>M</td>\n",
       "      <td>NaN</td>\n",
       "      <td>1</td>\n",
       "      <td>6.00</td>\n",
       "      <td>4.00</td>\n",
       "      <td>3.50</td>\n",
       "      <td>C</td>\n",
       "      <td>12/7/2018</td>\n",
       "      <td>Yes</td>\n",
       "    </tr>\n",
       "    <tr>\n",
       "      <th>2</th>\n",
       "      <td>SV003</td>\n",
       "      <td>M</td>\n",
       "      <td>NaN</td>\n",
       "      <td>1</td>\n",
       "      <td>5.00</td>\n",
       "      <td>6.75</td>\n",
       "      <td>4.00</td>\n",
       "      <td>C</td>\n",
       "      <td>12/7/2018</td>\n",
       "      <td>No</td>\n",
       "    </tr>\n",
       "    <tr>\n",
       "      <th>3</th>\n",
       "      <td>SV004</td>\n",
       "      <td>M</td>\n",
       "      <td>NaN</td>\n",
       "      <td>1</td>\n",
       "      <td>4.25</td>\n",
       "      <td>4.25</td>\n",
       "      <td>5.25</td>\n",
       "      <td>D1</td>\n",
       "      <td>12/7/2018</td>\n",
       "      <td>No</td>\n",
       "    </tr>\n",
       "    <tr>\n",
       "      <th>4</th>\n",
       "      <td>SV005</td>\n",
       "      <td>M</td>\n",
       "      <td>NaN</td>\n",
       "      <td>2NT</td>\n",
       "      <td>4.25</td>\n",
       "      <td>4.50</td>\n",
       "      <td>5.00</td>\n",
       "      <td>A</td>\n",
       "      <td>12/7/2018</td>\n",
       "      <td>No</td>\n",
       "    </tr>\n",
       "    <tr>\n",
       "      <th>...</th>\n",
       "      <td>...</td>\n",
       "      <td>...</td>\n",
       "      <td>...</td>\n",
       "      <td>...</td>\n",
       "      <td>...</td>\n",
       "      <td>...</td>\n",
       "      <td>...</td>\n",
       "      <td>...</td>\n",
       "      <td>...</td>\n",
       "      <td>...</td>\n",
       "    </tr>\n",
       "    <tr>\n",
       "      <th>95</th>\n",
       "      <td>SV0096</td>\n",
       "      <td>F</td>\n",
       "      <td>NaN</td>\n",
       "      <td>1</td>\n",
       "      <td>5.25</td>\n",
       "      <td>1.50</td>\n",
       "      <td>6.25</td>\n",
       "      <td>C</td>\n",
       "      <td>7/20/2022</td>\n",
       "      <td>Yes</td>\n",
       "    </tr>\n",
       "    <tr>\n",
       "      <th>96</th>\n",
       "      <td>SV0097</td>\n",
       "      <td>F</td>\n",
       "      <td>NaN</td>\n",
       "      <td>1</td>\n",
       "      <td>5.25</td>\n",
       "      <td>3.75</td>\n",
       "      <td>4.75</td>\n",
       "      <td>C</td>\n",
       "      <td>7/20/2022</td>\n",
       "      <td>No</td>\n",
       "    </tr>\n",
       "    <tr>\n",
       "      <th>97</th>\n",
       "      <td>SV0098</td>\n",
       "      <td>M</td>\n",
       "      <td>NaN</td>\n",
       "      <td>2NT</td>\n",
       "      <td>7.00</td>\n",
       "      <td>8.00</td>\n",
       "      <td>4.00</td>\n",
       "      <td>C</td>\n",
       "      <td>7/20/2022</td>\n",
       "      <td>Yes</td>\n",
       "    </tr>\n",
       "    <tr>\n",
       "      <th>98</th>\n",
       "      <td>SV0099</td>\n",
       "      <td>M</td>\n",
       "      <td>NaN</td>\n",
       "      <td>1</td>\n",
       "      <td>5.00</td>\n",
       "      <td>3.50</td>\n",
       "      <td>5.50</td>\n",
       "      <td>C</td>\n",
       "      <td>7/20/2022</td>\n",
       "      <td>No</td>\n",
       "    </tr>\n",
       "    <tr>\n",
       "      <th>99</th>\n",
       "      <td>SV00100</td>\n",
       "      <td>M</td>\n",
       "      <td>NaN</td>\n",
       "      <td>2NT</td>\n",
       "      <td>5.25</td>\n",
       "      <td>2.50</td>\n",
       "      <td>4.25</td>\n",
       "      <td>C</td>\n",
       "      <td>7/20/2022</td>\n",
       "      <td>Yes</td>\n",
       "    </tr>\n",
       "  </tbody>\n",
       "</table>\n",
       "<p>100 rows × 10 columns</p>\n",
       "</div>"
      ],
      "text/plain": [
       "       MSSV GT  DT   KV    M1    M2    M3  KT         NT NGHE\n",
       "0     SV001  F NaN  2NT  3.25  3.25  4.50  A1  12/7/2018   No\n",
       "1     SV002  M NaN    1  6.00  4.00  3.50   C  12/7/2018  Yes\n",
       "2     SV003  M NaN    1  5.00  6.75  4.00   C  12/7/2018   No\n",
       "3     SV004  M NaN    1  4.25  4.25  5.25  D1  12/7/2018   No\n",
       "4     SV005  M NaN  2NT  4.25  4.50  5.00   A  12/7/2018   No\n",
       "..      ... ..  ..  ...   ...   ...   ...  ..        ...  ...\n",
       "95   SV0096  F NaN    1  5.25  1.50  6.25   C  7/20/2022  Yes\n",
       "96   SV0097  F NaN    1  5.25  3.75  4.75   C  7/20/2022   No\n",
       "97   SV0098  M NaN  2NT  7.00  8.00  4.00   C  7/20/2022  Yes\n",
       "98   SV0099  M NaN    1  5.00  3.50  5.50   C  7/20/2022   No\n",
       "99  SV00100  M NaN  2NT  5.25  2.50  4.25   C  7/20/2022  Yes\n",
       "\n",
       "[100 rows x 10 columns]"
      ]
     },
     "execution_count": 4,
     "metadata": {},
     "output_type": "execute_result"
    }
   ],
   "source": [
    "import pandas as pd\n",
    "df = pd.read_csv('dulieuxettuyendaihoc.csv',\n",
    "                 header=0,delimiter=',',encoding='utf-8')\n",
    "\n",
    "df.rename(columns={'NGAYTHI':'NT',\n",
    "                   'DINHHUONGNGHENGHIEP':'NGHE'}, \n",
    "                   inplace=True)\n",
    "df"
   ]
  },
  {
   "cell_type": "code",
   "execution_count": 5,
   "metadata": {},
   "outputs": [
    {
     "data": {
      "text/plain": [
       "1     6.00\n",
       "2     5.00\n",
       "6     6.50\n",
       "22    5.00\n",
       "23    6.75\n",
       "24    7.00\n",
       "25    4.75\n",
       "26    5.25\n",
       "27    5.25\n",
       "95    5.25\n",
       "96    5.25\n",
       "97    7.00\n",
       "98    5.00\n",
       "99    5.25\n",
       "Name: M1, dtype: float64"
      ]
     },
     "execution_count": 5,
     "metadata": {},
     "output_type": "execute_result"
    }
   ],
   "source": [
    "# Câu 1 sử dụng duwl iệu mẫu \n",
    "# Hãy suy diễn xem trung bình diểm thi M1\n",
    "# Của toàn bộ thí sinh thi khối C có băng 4.0\n",
    "dfKhoiC = df.loc[df['KT'] == 'C']\n",
    "dfKhoiC['M1']\n",
    "\n",
    "      "
   ]
  },
  {
   "cell_type": "code",
   "execution_count": 6,
   "metadata": {},
   "outputs": [
    {
     "data": {
      "text/plain": [
       "count    14.000000\n",
       "mean      5.660714\n",
       "std       0.812209\n",
       "min       4.750000\n",
       "25%       5.062500\n",
       "50%       5.250000\n",
       "75%       6.375000\n",
       "max       7.000000\n",
       "Name: M1, dtype: float64"
      ]
     },
     "execution_count": 6,
     "metadata": {},
     "output_type": "execute_result"
    }
   ],
   "source": [
    "dfKhoiC['M1'].describe()   "
   ]
  },
  {
   "cell_type": "markdown",
   "metadata": {},
   "source": [
    " PHƯƠNG PHÁP 1 : ONE SAMPLE T-TEST (ĐỊNH LƯỢNG)"
   ]
  },
  {
   "cell_type": "code",
   "execution_count": 7,
   "metadata": {},
   "outputs": [],
   "source": [
    "import scipy.stats as stats"
   ]
  },
  {
   "cell_type": "code",
   "execution_count": 8,
   "metadata": {},
   "outputs": [
    {
     "data": {
      "text/plain": [
       "TtestResult(statistic=7.650519779016341, pvalue=3.6339826927369557e-06, df=13)"
      ]
     },
     "execution_count": 8,
     "metadata": {},
     "output_type": "execute_result"
    }
   ],
   "source": [
    "# Với one smaple T-test thì gải thiết Ho: muy = 4.0\n",
    "# Mawcjj địnhk mức tin cậy là 95% và mức sai lầm 5% \n",
    "stats.ttest_1samp(dfKhoiC['M1'], popmean=4.0)\n",
    "# p-value = 3.633*10-6 < apha \n",
    "# bác bỏ không đủ dữ liệu trung bình dữ liệu của thí sinh M1 thi khối C"
   ]
  },
  {
   "cell_type": "code",
   "execution_count": 9,
   "metadata": {},
   "outputs": [],
   "source": [
    "# Bài tập: Sinh viên kiểm tra xem điểm trung bình của môn thi M2 của khối thi C có bằng 5.7 hay không\n",
    "\n",
    "# Bài tập: Sinh viên về tự tìm hiểu cách thiết lập mức tin cậy hoặc sai lầm\n",
    "# Bài tập: Hãy kiểm tra xem có phải điểm trung bình M3\n",
    "# của thí sinh thi khối C có là 6.5 hay không\n",
    "# với mức sai lầm là 10%"
   ]
  },
  {
   "cell_type": "markdown",
   "metadata": {},
   "source": [
    " PHƯƠNG PHÁP 2 : ONE SAMPLE Z-TEST (ĐỊNH LƯỢNG)"
   ]
  },
  {
   "cell_type": "code",
   "execution_count": 10,
   "metadata": {},
   "outputs": [
    {
     "data": {
      "text/plain": [
       "(-29.907152266677993, 1.588509177330612e-196)"
      ]
     },
     "execution_count": 10,
     "metadata": {},
     "output_type": "execute_result"
    }
   ],
   "source": [
    "from statsmodels.stats.weightstats import ztest as ztest\n",
    "# Hãy  kiểm tra xem trung bình M1 có băng 8.0\n",
    "ztest(df['M1'], value=8.0)\n",
    "\n",
    "# p-value = 1.58*10-196\n",
    "# Không đủ dữ kiện trung bình M1 là 8.0"
   ]
  },
  {
   "cell_type": "code",
   "execution_count": 11,
   "metadata": {},
   "outputs": [],
   "source": [
    "#Bài tập: Hãy kiểm tra xem trung bình M2 có bằng 6.7"
   ]
  },
  {
   "cell_type": "markdown",
   "metadata": {},
   "source": [
    "PHUONWG PHÁP 3: TWO SAMPLE T-TEST (N<30) (ĐỊNH LƯỢNG)"
   ]
  },
  {
   "cell_type": "code",
   "execution_count": 12,
   "metadata": {},
   "outputs": [
    {
     "data": {
      "text/plain": [
       "TtestResult(statistic=2.5331368604654054, pvalue=0.017676922552296807, df=26.0)"
      ]
     },
     "execution_count": 12,
     "metadata": {},
     "output_type": "execute_result"
    }
   ],
   "source": [
    "# cÂU 2 Hãy kiểm tra xe mtrung bình điểm thi M1 và \n",
    "# trung bình diểm thi M2 của thí sinh thi khối C cso bằng nhau không \n",
    "# Ho ; mean_M1 - mean_M2 = 0 \n",
    "dfKhoiC = df.loc[df['KT'] == 'C']\n",
    "stats.ttest_ind(dfKhoiC['M1'], dfKhoiC['M2'], equal_var=True)\n",
    "\n",
    "# Không đủ dữ kiện trung bình M1 cảu thí sinh thi khối C không bằng rung bình M2 cảu thí sinh thi khối C  là 8.0"
   ]
  },
  {
   "cell_type": "markdown",
   "metadata": {},
   "source": [
    "PHUONWG PHÁP 4: TWO SAMPLE Z-TEST (N<30) (ĐỊNH LƯỢNG)"
   ]
  },
  {
   "cell_type": "code",
   "execution_count": 13,
   "metadata": {},
   "outputs": [
    {
     "data": {
      "text/plain": [
       "(-2.9004757923795, 0.0037259661678783573)"
      ]
     },
     "execution_count": 13,
     "metadata": {},
     "output_type": "execute_result"
    }
   ],
   "source": [
    "# Hãy kiểm tra xe mdidiemr trung bình M1 có bằng M2 \n",
    "ztest(df['M1'], df['M2'], value=0)\n",
    "# p-value = 0.0037259661678783573 < apha\n",
    "# Không đủ dữ kiện để nói rằng tbM1= tbM2"
   ]
  },
  {
   "cell_type": "markdown",
   "metadata": {},
   "source": [
    "PHƯƠNG PHÁP 5: KIỂM ĐỊNH TƯƠNG QUAN PEARSON (ĐỊNH LƯỢNG)"
   ]
  },
  {
   "cell_type": "code",
   "execution_count": 14,
   "metadata": {},
   "outputs": [
    {
     "name": "stderr",
     "output_type": "stream",
     "text": [
      "C:\\Users\\tizga\\AppData\\Local\\Temp\\ipykernel_13232\\2992434741.py:2: DeprecationWarning: Please import `pearsonr` from the `scipy.stats` namespace; the `scipy.stats.stats` namespace is deprecated and will be removed in SciPy 2.0.0.\n",
      "  from scipy.stats.stats import pearsonr\n"
     ]
    },
    {
     "data": {
      "text/plain": [
       "PearsonRResult(statistic=0.035154057257850244, pvalue=0.7284198928723635)"
      ]
     },
     "execution_count": 14,
     "metadata": {},
     "output_type": "execute_result"
    }
   ],
   "source": [
    "# Cho biết 2 biến định lượng có tương quan với hay hay khong\n",
    "from scipy.stats.stats import pearsonr\n",
    "pearsonr(df['M1'], df['M2'])\n",
    "\n",
    "#p-value = 0.72 > 0.05 \n",
    "# H0 muy(M1, M2) = 0 > 0.05 \n",
    "#Chấp nhận H0, không tương quan "
   ]
  },
  {
   "cell_type": "markdown",
   "metadata": {},
   "source": [
    "PHƯƠNG PHÁP 6: FISHER TEST (ĐỊNH TÍNH)"
   ]
  },
  {
   "cell_type": "code",
   "execution_count": null,
   "metadata": {},
   "outputs": [
    {
     "name": "stdout",
     "output_type": "stream",
     "text": [
      "odd ratio is : 0.575\n",
      "p_value is : 0.22763927303454412\n"
     ]
    }
   ],
   "source": [
    "# Hãy kiểm định xem GT và NGHE có mối quan hệ gì với nhau\n",
    "crosdata = pd.crosstab(df['GT'], [df['NGHE']], rownames=['GT'], colnames=['NGHE'])\n",
    "odd_ratio, p_value = stats.fisher_exact(crosdata)\n",
    "print('odd ratio is : ' + str(odd_ratio))\n",
    "print('p_value is : ' + str(p_value))\n",
    "# H0 : GT và NGHE \n",
    "# p-value = 0.22 > 0.05 \n",
    "# Chấp nhận H0, GT và NGHE độc lập"
   ]
  },
  {
   "cell_type": "markdown",
   "metadata": {},
   "source": [
    "PHƯƠNG PHÁP 7: CHI-SQUARE TEST (ĐỊNH TÍNH)"
   ]
  },
  {
   "cell_type": "code",
   "execution_count": 16,
   "metadata": {},
   "outputs": [
    {
     "name": "stdout",
     "output_type": "stream",
     "text": [
      "p value is 0.02012461887796485\n",
      "Dependent(Phụ thuộc) (reject H0)(Từ chối H0)\n"
     ]
    }
   ],
   "source": [
    "# H0: X,Y độc lập\n",
    "from scipy.stats import chi2_contingency\n",
    "crosdata = pd.crosstab(df['KV'], [df['KT']], rownames=['KV'], colnames=['KT'])\n",
    "stat, p, dof, expected = chi2_contingency(crosdata)\n",
    "alpha = 0.05\n",
    "print(\"p value is \" + str(p))\n",
    "if p <= alpha:\n",
    "    print('Dependent(Phụ thuộc) (reject H0)(Từ chối H0)')\n",
    "else:\n",
    "    print('Independent(Độc lập) (H0 holds true)(Chấp nhận H0)')\n"
   ]
  },
  {
   "cell_type": "markdown",
   "metadata": {},
   "source": [
    "PHƯƠNG PHÁP 8: ONE WAY ANOVA TEST (LƯỢNG - TÍNH)\n"
   ]
  },
  {
   "cell_type": "code",
   "execution_count": 17,
   "metadata": {},
   "outputs": [
    {
     "data": {
      "text/html": [
       "<div>\n",
       "<style scoped>\n",
       "    .dataframe tbody tr th:only-of-type {\n",
       "        vertical-align: middle;\n",
       "    }\n",
       "\n",
       "    .dataframe tbody tr th {\n",
       "        vertical-align: top;\n",
       "    }\n",
       "\n",
       "    .dataframe thead th {\n",
       "        text-align: right;\n",
       "    }\n",
       "</style>\n",
       "<table border=\"1\" class=\"dataframe\">\n",
       "  <thead>\n",
       "    <tr style=\"text-align: right;\">\n",
       "      <th></th>\n",
       "      <th>df</th>\n",
       "      <th>sum_sq</th>\n",
       "      <th>mean_sq</th>\n",
       "      <th>F</th>\n",
       "      <th>PR(&gt;F)</th>\n",
       "    </tr>\n",
       "  </thead>\n",
       "  <tbody>\n",
       "    <tr>\n",
       "      <th>GT</th>\n",
       "      <td>1.0</td>\n",
       "      <td>1.203141</td>\n",
       "      <td>1.203141</td>\n",
       "      <td>0.590538</td>\n",
       "      <td>0.444059</td>\n",
       "    </tr>\n",
       "    <tr>\n",
       "      <th>Residual</th>\n",
       "      <td>98.0</td>\n",
       "      <td>199.661859</td>\n",
       "      <td>2.037366</td>\n",
       "      <td>NaN</td>\n",
       "      <td>NaN</td>\n",
       "    </tr>\n",
       "  </tbody>\n",
       "</table>\n",
       "</div>"
      ],
      "text/plain": [
       "            df      sum_sq   mean_sq         F    PR(>F)\n",
       "GT         1.0    1.203141  1.203141  0.590538  0.444059\n",
       "Residual  98.0  199.661859  2.037366       NaN       NaN"
      ]
     },
     "execution_count": 17,
     "metadata": {},
     "output_type": "execute_result"
    }
   ],
   "source": [
    "\n",
    "import statsmodels.api as sm\n",
    "from statsmodels.formula.api import ols\n",
    "model = ols('M1 ~ GT', data=df).fit()\n",
    "aov_table = sm.stats.anova_lm(model, typ=1)\n",
    "aov_table\n",
    "# PR(>F) là p-value = 0.44 > 0.05\n",
    "# Chấp nhận H0, M1 độc lập với GT"
   ]
  },
  {
   "cell_type": "markdown",
   "metadata": {},
   "source": [
    "PHƯƠNG PHÁP 9: TWO WAY ANOVA TEST (LƯỢNG - TÍNH)"
   ]
  },
  {
   "cell_type": "code",
   "execution_count": 18,
   "metadata": {},
   "outputs": [
    {
     "name": "stdout",
     "output_type": "stream",
     "text": [
      "            df      sum_sq   mean_sq         F    PR(>F)\n",
      "GT         1.0    1.203141  1.203141  0.598960  0.440917\n",
      "KV         2.0    3.493206  1.746603  0.869512  0.422500\n",
      "GT:KV      2.0    7.349290  3.674645  1.829350  0.166186\n",
      "Residual  94.0  188.819363  2.008717       NaN       NaN\n"
     ]
    }
   ],
   "source": [
    "model = ols('M1 ~ GT + KV + GT:KV', data=df).fit()\n",
    "result = sm.stats.anova_lm(model, type=2)\n",
    "print(result)\n",
    "#  PR(>F) là p-value tất cả các p-value đều > 0.05\n",
    "#Chấp nhận H0, điểm M1 trên từng nhóm giới tính trên từng khu vực là không phụ thuộc (Độc lập)"
   ]
  },
  {
   "cell_type": "markdown",
   "metadata": {},
   "source": [
    "PHƯƠNG PHÁP 10 : HỒI QUY TUYẾN TÍNH ĐƠN"
   ]
  },
  {
   "cell_type": "code",
   "execution_count": 19,
   "metadata": {},
   "outputs": [
    {
     "name": "stdout",
     "output_type": "stream",
     "text": [
      "                            OLS Regression Results                            \n",
      "==============================================================================\n",
      "Dep. Variable:                      y   R-squared:                       0.000\n",
      "Model:                            OLS   Adj. R-squared:                 -0.010\n",
      "Method:                 Least Squares   F-statistic:                   0.03439\n",
      "Date:                Mon, 13 Jan 2025   Prob (F-statistic):              0.853\n",
      "Time:                        18:39:36   Log-Likelihood:                -145.41\n",
      "No. Observations:                 100   AIC:                             294.8\n",
      "Df Residuals:                      98   BIC:                             300.0\n",
      "Df Model:                           1                                         \n",
      "Covariance Type:            nonrobust                                         \n",
      "==============================================================================\n",
      "                 coef    std err          t      P>|t|      [0.025      0.975]\n",
      "------------------------------------------------------------------------------\n",
      "const          4.8238      0.295     16.338      0.000       4.238       5.410\n",
      "x1             0.0137      0.074      0.185      0.853      -0.133       0.160\n",
      "==============================================================================\n",
      "Omnibus:                        6.663   Durbin-Watson:                   1.749\n",
      "Prob(Omnibus):                  0.036   Jarque-Bera (JB):                6.173\n",
      "Skew:                           0.586   Prob(JB):                       0.0457\n",
      "Kurtosis:                       3.327   Cond. No.                         11.9\n",
      "==============================================================================\n",
      "\n",
      "Notes:\n",
      "[1] Standard Errors assume that the covariance matrix of the errors is correctly specified.\n"
     ]
    }
   ],
   "source": [
    "# M3: gọi biến phụ thuộc, mục tiêu\n",
    "# M1: biến độc lập\n",
    "# M3 = f(M1)\n",
    "# Hàm tuyến tính đơn y = AO +A1*x\n",
    "# AO: hệ tự do (hệ số chặn)\n",
    "# A1: hệ số - cofficient\n",
    "import statsmodels.api as sm\n",
    "#adding a constant\n",
    "\n",
    "X_with_constant = sm.add_constant (df [[\"M1\"]].values)\n",
    "y = df [[ 'M3']].values\n",
    "#performing the regression\n",
    "result = sm.OLS (y, X_with_constant).fit()\n",
    "# Result of statsmodels\n",
    "print(result.summary())"
   ]
  },
  {
   "cell_type": "code",
   "execution_count": 20,
   "metadata": {},
   "outputs": [],
   "source": [
    "# R-squared = 0.000 => M1 không giải thích được gì cho M3, M1 giải thích được 0% sự thay đổi của M3\n",
    "# Prob(F-statistic) =0.853   > 5% => Mô hình không có ý nghĩa thông kê | ngược lại < 5% là có ý nghĩa\n",
    "# const = A0 = 4.8238 \n",
    "# x1 = A1 = 0.0137\n",
    "\n",
    "# = > M3 = 4.8238 + 0.0137 * M1\n"
   ]
  },
  {
   "cell_type": "code",
   "execution_count": 21,
   "metadata": {},
   "outputs": [],
   "source": [
    "M3 = 4.8238 + 0.0137 * 6.7"
   ]
  },
  {
   "cell_type": "code",
   "execution_count": 22,
   "metadata": {},
   "outputs": [
    {
     "name": "stdout",
     "output_type": "stream",
     "text": [
      "                            OLS Regression Results                            \n",
      "==============================================================================\n",
      "Dep. Variable:                      y   R-squared:                       0.009\n",
      "Model:                            OLS   Adj. R-squared:                 -0.012\n",
      "Method:                 Least Squares   F-statistic:                    0.4335\n",
      "Date:                Mon, 13 Jan 2025   Prob (F-statistic):              0.649\n",
      "Time:                        18:44:31   Log-Likelihood:                -144.98\n",
      "No. Observations:                 100   AIC:                             296.0\n",
      "Df Residuals:                      97   BIC:                             303.8\n",
      "Df Model:                           2                                         \n",
      "Covariance Type:            nonrobust                                         \n",
      "==============================================================================\n",
      "                 coef    std err          t      P>|t|      [0.025      0.975]\n",
      "------------------------------------------------------------------------------\n",
      "const          5.2006      0.508     10.241      0.000       4.193       6.209\n",
      "x1             0.0161      0.074      0.217      0.828      -0.131       0.163\n",
      "x2            -0.0906      0.099     -0.912      0.364      -0.288       0.107\n",
      "==============================================================================\n",
      "Omnibus:                        8.456   Durbin-Watson:                   1.724\n",
      "Prob(Omnibus):                  0.015   Jarque-Bera (JB):                8.119\n",
      "Skew:                           0.626   Prob(JB):                       0.0173\n",
      "Kurtosis:                       3.619   Cond. No.                         29.0\n",
      "==============================================================================\n",
      "\n",
      "Notes:\n",
      "[1] Standard Errors assume that the covariance matrix of the errors is correctly specified.\n"
     ]
    }
   ],
   "source": [
    "# M3: gọi biến phụ thuộc, mục tiêu\n",
    "# M1: biến độc lập\n",
    "# M3 = f(M1)\n",
    "# Hàm tuyến tính đơn y = AO +A1*x\n",
    "# AO: hệ tự do (hệ số chặn)\n",
    "# A1: hệ số - cofficient\n",
    "import statsmodels.api as sm\n",
    "#adding a constant\n",
    "\n",
    "X_with_constant = sm.add_constant (df [[\"M1\",\"M2\"]].values)\n",
    "y = df [[ 'M3']].values\n",
    "#performing the regression\n",
    "result = sm.OLS (y, X_with_constant).fit()\n",
    "# Result of statsmodels\n",
    "print(result.summary())"
   ]
  },
  {
   "cell_type": "code",
   "execution_count": null,
   "metadata": {},
   "outputs": [],
   "source": [
    "# M1  và M2 giải thích được sự thay 0.9% sự thay đổi, Giá tri M3 \n",
    "# Prob(F-statistic) =0.649 -> không có ý nghĩa khi dung M1, M2  để giải thích M3\n",
    "# Sinh viên tự ghi ra phương trình biểu dieecn M3 theo M1 , M2"
   ]
  },
  {
   "cell_type": "code",
   "execution_count": null,
   "metadata": {},
   "outputs": [],
   "source": [
    "# Đánh giá tác dộng giueax các yếu dố đên một đối tượng \n",
    "# Băng pp hồi quy tuyến tính \n",
    "# "
   ]
  }
 ],
 "metadata": {
  "kernelspec": {
   "display_name": "base",
   "language": "python",
   "name": "python3"
  },
  "language_info": {
   "codemirror_mode": {
    "name": "ipython",
    "version": 3
   },
   "file_extension": ".py",
   "mimetype": "text/x-python",
   "name": "python",
   "nbconvert_exporter": "python",
   "pygments_lexer": "ipython3",
   "version": "3.12.7"
  }
 },
 "nbformat": 4,
 "nbformat_minor": 2
}
