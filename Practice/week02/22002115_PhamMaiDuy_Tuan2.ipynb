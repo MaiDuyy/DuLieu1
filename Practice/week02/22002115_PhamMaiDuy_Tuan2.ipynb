{
 "cells": [
  {
   "cell_type": "markdown",
   "metadata": {},
   "source": [
    "Họ tên : Phạm Mai Duy \n",
    "MSSV : 22002115\n",
    "Lớp : DHKTPM18C"
   ]
  },
  {
   "cell_type": "code",
   "execution_count": 110,
   "metadata": {},
   "outputs": [],
   "source": [
    "import pandas as pd\n",
    "import matplotlib.pyplot as plt\n",
    "import seaborn as sns \n",
    "import numpy as np \n",
    "import scipy.stats as stats"
   ]
  },
  {
   "cell_type": "markdown",
   "metadata": {},
   "source": [
    "1. Đọc dữ liệu lên dataframe"
   ]
  },
  {
   "cell_type": "code",
   "execution_count": 85,
   "metadata": {},
   "outputs": [],
   "source": [
    "thietbi = pd.read_csv('thietbi.csv')\n",
    "nguoidung_thietbi = pd.read_csv('nguoidung_thietbi.csv')\n",
    "nguoidung_sudung = pd.read_csv('nguoidung_sudung.csv')"
   ]
  },
  {
   "cell_type": "markdown",
   "metadata": {},
   "source": [
    "3. Đổi tên các cột dữ liệu cần thiết "
   ]
  },
  {
   "cell_type": "code",
   "execution_count": 89,
   "metadata": {},
   "outputs": [],
   "source": [
    "thietbi.rename(columns={'Retail Branding' : 'Branding', 'Marketing Name' : 'MarketingName'}, inplace=True)"
   ]
  },
  {
   "cell_type": "code",
   "execution_count": 90,
   "metadata": {},
   "outputs": [
    {
     "data": {
      "text/plain": [
       "<bound method NDFrame.head of                          Branding                    MarketingName  \\\n",
       "0                             NaN                              NaN   \n",
       "1                             NaN                              NaN   \n",
       "2                             NaN                              NaN   \n",
       "3                             NaN                              NaN   \n",
       "4                              3Q                          OC1020A   \n",
       "5                         7Eleven                            IN265   \n",
       "6      A.O.I. ELECTRONICS FACTORY                           A.O.I.   \n",
       "7                       AG Mobile                       AG BOOST 2   \n",
       "8                       AG Mobile                         AG Flair   \n",
       "9                       AG Mobile               AG Go Tab Access 2   \n",
       "10                      AG Mobile                        AG Ultra2   \n",
       "11                      AG Mobile                 AG_Go-Tab_Access   \n",
       "12                      AG Mobile                       AG_Tab_7_0   \n",
       "13                      AG Mobile                            Boost   \n",
       "14                      AG Mobile                           Chacer   \n",
       "15                      AG Mobile                   Freedom Access   \n",
       "16                      AG Mobile                        Freedom E   \n",
       "17                      AG Mobile                 Freedom Plus LTE   \n",
       "18                      AG Mobile                            Ghost   \n",
       "19                      AG Mobile                             Glow   \n",
       "20                      AG Mobile                          HASHTAG   \n",
       "21                      AG Mobile                             Hype   \n",
       "22                      AG Mobile                             Neon   \n",
       "23                      AG Mobile                            Quest   \n",
       "24                      AG Mobile                             Rage   \n",
       "25                      AG Mobile                       STYLE PLUS   \n",
       "26                      AG Mobile                            Shine   \n",
       "27                      AG Mobile                           Status   \n",
       "28                      AG Mobile                            Style   \n",
       "29                      AG Mobile                          Style_2   \n",
       "...                           ...                              ...   \n",
       "14516                       iRulu                            Irulu   \n",
       "14517                       iRulu                              L20   \n",
       "14518                       iRulu                              L21   \n",
       "14519                       iRulu                              X18   \n",
       "14520                       iRulu                              X37   \n",
       "14521                       iRulu                              X40   \n",
       "14522                       iRulu                              X47   \n",
       "14523                       iRulu                        iRULU X27   \n",
       "14524                       iView                        776TPCIII   \n",
       "14525                       iView                     iView 778TPC   \n",
       "14526                       iView                   iView 788TPCII   \n",
       "14527                       iView                     iView 920TPC   \n",
       "14528                       iView              iView SupraPad i700   \n",
       "14529                       iView             iView SupraPad i785Q   \n",
       "14530                     mobicel                            Retro   \n",
       "14531                    mobistel                         Cynus T6   \n",
       "14532                     myPhone                             CUBE   \n",
       "14533                        nabi                    nabi 2 Tablet   \n",
       "14534                        nabi                   nabi 2S Tablet   \n",
       "14535                        nabi  nabi Big Tab HD\\xe2\\x84\\xa2 20\"   \n",
       "14536                        nabi  nabi Big Tab HD\\xe2\\x84\\xa2 24\"   \n",
       "14537                        nabi         nabi DreamTab HD8 Tablet   \n",
       "14538                        nabi         nabi DreamTab HD8 Tablet   \n",
       "14539                        oioo                     oioo Model 2   \n",
       "14540                        oioo                     oioo Model 3   \n",
       "14541                       pendo                      PNDPP44QC10   \n",
       "14542                       pendo                       PNDPP44QC7   \n",
       "14543                  sugar_aums                           QPOINT   \n",
       "14544                   tecmobile                         OmnisOne   \n",
       "14545                       ucall                            EASY1   \n",
       "\n",
       "                   Device                      Model  \n",
       "0                  AD681H  Smartfren Andromax AD681H  \n",
       "1                   FJL21                      FJL21  \n",
       "2                     T31              Panasonic T31  \n",
       "3                hws7721g         MediaPad 7 Youth 2  \n",
       "4                 OC1020A                    OC1020A  \n",
       "5                   IN265                      IN265  \n",
       "6              TR10CS1_11                    TR10CS1  \n",
       "7                  BOOST2                      E4010  \n",
       "8                AG_Flair                      Flair  \n",
       "9      AG_Go_Tab_Access_2         AG_Go_Tab_Access_2  \n",
       "10              AG_Ultra2                    Ultra 2  \n",
       "11              md789hwag           AG Go-Tab Access  \n",
       "12             AG_Tab_7_0                 AG_Tab_7_0  \n",
       "13                  Boost                      Boost  \n",
       "14                 Chacer                     Chacer  \n",
       "15         Freedom_Access             Freedom Access  \n",
       "16              Freedom_E                  Freedom E  \n",
       "17       Freedom_Plus_LTE           Freedom Plus LTE  \n",
       "18                  Ghost                      Ghost  \n",
       "19                   Glow                       Glow  \n",
       "20                Hashtag                    Hashtag  \n",
       "21                   Hype                       Hype  \n",
       "22                   Neon                       Neon  \n",
       "23                  Quest                      Quest  \n",
       "24                   Rage                       Rage  \n",
       "25             STYLE_PLUS                 STYLE_PLUS  \n",
       "26                  Shine                      Shine  \n",
       "27                 Status                     Status  \n",
       "28                  Style                      Style  \n",
       "29                Style_2                    Style 2  \n",
       "...                   ...                        ...  \n",
       "14516        octopus-masu                        X10  \n",
       "14517                 L20                        L20  \n",
       "14518                 L21                        L21  \n",
       "14519                 X18                        X18  \n",
       "14520           iRULU-X37                        X37  \n",
       "14521           iRULU-X40                        X40  \n",
       "14522                 X47                        X47  \n",
       "14523                 X27                        X27  \n",
       "14524           776TPCIII                  776TPCIII  \n",
       "14525              778TPC                     778TPC  \n",
       "14526      iView_788TPCII                   788TPCII  \n",
       "14527              920TPC                     920TPC  \n",
       "14528                g01i                       i700  \n",
       "14529              anchor                      i785Q  \n",
       "14530               Retro                      Retro  \n",
       "14531            Cynus_T6                   Cynus T6  \n",
       "14532        myphone_cube               myPhone Cube  \n",
       "14533               mt799                 NABI2-NV7A  \n",
       "14534              nabi2S                 SNB02-NV7A  \n",
       "14535         DMTAB-NV20A                DMTAB-NV20A  \n",
       "14536         DMTAB-NV24A                DMTAB-NV24A  \n",
       "14537               DMTAB                DMTAB-IN08A  \n",
       "14538              t8400n                DMTAB-NV08B  \n",
       "14539               wecct                    Model 2  \n",
       "14540              wecct3                    Model 3  \n",
       "14541         PNDPP44QC10                PNDPP44QC10  \n",
       "14542          PNDPP44QC7                 PNDPP44QC7  \n",
       "14543               QPI-1                      QPI-1  \n",
       "14544            OmnisOne                  Omnis One  \n",
       "14545               EASY1                      EASY1  \n",
       "\n",
       "[14546 rows x 4 columns]>"
      ]
     },
     "execution_count": 90,
     "metadata": {},
     "output_type": "execute_result"
    }
   ],
   "source": [
    "thietbi.head"
   ]
  },
  {
   "cell_type": "markdown",
   "metadata": {},
   "source": [
    "4. Trộn bảng nguoidung_sudung và nguoidung_thietbi thông qua inner join để được bảng \n",
    "kết quả có các cột sau: [outgoing_mins_per_month, outgoing_sms_per_month, \n",
    "monthly_mb, use_id, platform, device] "
   ]
  },
  {
   "cell_type": "code",
   "execution_count": 91,
   "metadata": {},
   "outputs": [],
   "source": [
    "dfKetQua = pd.merge(nguoidung_sudung,\n",
    "nguoidung_thietbi[['use_id', 'platform', 'device']],\n",
    "on='use_id')"
   ]
  },
  {
   "cell_type": "code",
   "execution_count": 92,
   "metadata": {},
   "outputs": [
    {
     "data": {
      "text/html": [
       "<div>\n",
       "<style scoped>\n",
       "    .dataframe tbody tr th:only-of-type {\n",
       "        vertical-align: middle;\n",
       "    }\n",
       "\n",
       "    .dataframe tbody tr th {\n",
       "        vertical-align: top;\n",
       "    }\n",
       "\n",
       "    .dataframe thead th {\n",
       "        text-align: right;\n",
       "    }\n",
       "</style>\n",
       "<table border=\"1\" class=\"dataframe\">\n",
       "  <thead>\n",
       "    <tr style=\"text-align: right;\">\n",
       "      <th></th>\n",
       "      <th>outgoing_mins_per_month</th>\n",
       "      <th>outgoing_sms_per_month</th>\n",
       "      <th>monthly_mb</th>\n",
       "      <th>use_id</th>\n",
       "      <th>platform</th>\n",
       "      <th>device</th>\n",
       "    </tr>\n",
       "  </thead>\n",
       "  <tbody>\n",
       "    <tr>\n",
       "      <th>0</th>\n",
       "      <td>21.97</td>\n",
       "      <td>4.82</td>\n",
       "      <td>1557.33</td>\n",
       "      <td>22787</td>\n",
       "      <td>android</td>\n",
       "      <td>GT-I9505</td>\n",
       "    </tr>\n",
       "    <tr>\n",
       "      <th>1</th>\n",
       "      <td>1710.08</td>\n",
       "      <td>136.88</td>\n",
       "      <td>7267.55</td>\n",
       "      <td>22788</td>\n",
       "      <td>android</td>\n",
       "      <td>SM-G930F</td>\n",
       "    </tr>\n",
       "    <tr>\n",
       "      <th>2</th>\n",
       "      <td>1710.08</td>\n",
       "      <td>136.88</td>\n",
       "      <td>7267.55</td>\n",
       "      <td>22789</td>\n",
       "      <td>android</td>\n",
       "      <td>SM-G930F</td>\n",
       "    </tr>\n",
       "    <tr>\n",
       "      <th>3</th>\n",
       "      <td>94.46</td>\n",
       "      <td>35.17</td>\n",
       "      <td>519.12</td>\n",
       "      <td>22790</td>\n",
       "      <td>android</td>\n",
       "      <td>D2303</td>\n",
       "    </tr>\n",
       "    <tr>\n",
       "      <th>4</th>\n",
       "      <td>71.59</td>\n",
       "      <td>79.26</td>\n",
       "      <td>1557.33</td>\n",
       "      <td>22792</td>\n",
       "      <td>android</td>\n",
       "      <td>SM-G361F</td>\n",
       "    </tr>\n",
       "  </tbody>\n",
       "</table>\n",
       "</div>"
      ],
      "text/plain": [
       "   outgoing_mins_per_month  outgoing_sms_per_month  monthly_mb  use_id  \\\n",
       "0                    21.97                    4.82     1557.33   22787   \n",
       "1                  1710.08                  136.88     7267.55   22788   \n",
       "2                  1710.08                  136.88     7267.55   22789   \n",
       "3                    94.46                   35.17      519.12   22790   \n",
       "4                    71.59                   79.26     1557.33   22792   \n",
       "\n",
       "  platform    device  \n",
       "0  android  GT-I9505  \n",
       "1  android  SM-G930F  \n",
       "2  android  SM-G930F  \n",
       "3  android     D2303  \n",
       "4  android  SM-G361F  "
      ]
     },
     "execution_count": 92,
     "metadata": {},
     "output_type": "execute_result"
    }
   ],
   "source": [
    "dfKetQua.head(5)"
   ]
  },
  {
   "cell_type": "markdown",
   "metadata": {},
   "source": [
    "5. Tiếp tục inner-join bảng thietbi và dfKetQua để có thêm 2 cột Model và Branding trong \n",
    "bảng kết quả cuối cùng. Lưu ý ở đây khóa liên kết sẽ khác tên"
   ]
  },
  {
   "cell_type": "code",
   "execution_count": 93,
   "metadata": {},
   "outputs": [],
   "source": [
    "# inner-join\n",
    "dfKetQua = pd.merge(dfKetQua, thietbi[['Branding', 'Model']], left_on='device', right_on='Model')"
   ]
  },
  {
   "cell_type": "code",
   "execution_count": 94,
   "metadata": {},
   "outputs": [
    {
     "data": {
      "text/html": [
       "<div>\n",
       "<style scoped>\n",
       "    .dataframe tbody tr th:only-of-type {\n",
       "        vertical-align: middle;\n",
       "    }\n",
       "\n",
       "    .dataframe tbody tr th {\n",
       "        vertical-align: top;\n",
       "    }\n",
       "\n",
       "    .dataframe thead th {\n",
       "        text-align: right;\n",
       "    }\n",
       "</style>\n",
       "<table border=\"1\" class=\"dataframe\">\n",
       "  <thead>\n",
       "    <tr style=\"text-align: right;\">\n",
       "      <th></th>\n",
       "      <th>outgoing_mins_per_month</th>\n",
       "      <th>outgoing_sms_per_month</th>\n",
       "      <th>monthly_mb</th>\n",
       "      <th>use_id</th>\n",
       "      <th>platform</th>\n",
       "      <th>device</th>\n",
       "      <th>Branding</th>\n",
       "      <th>Model</th>\n",
       "    </tr>\n",
       "  </thead>\n",
       "  <tbody>\n",
       "    <tr>\n",
       "      <th>0</th>\n",
       "      <td>21.97</td>\n",
       "      <td>4.82</td>\n",
       "      <td>1557.33</td>\n",
       "      <td>22787</td>\n",
       "      <td>android</td>\n",
       "      <td>GT-I9505</td>\n",
       "      <td>Samsung</td>\n",
       "      <td>GT-I9505</td>\n",
       "    </tr>\n",
       "    <tr>\n",
       "      <th>1</th>\n",
       "      <td>69.80</td>\n",
       "      <td>14.70</td>\n",
       "      <td>25955.55</td>\n",
       "      <td>22801</td>\n",
       "      <td>android</td>\n",
       "      <td>GT-I9505</td>\n",
       "      <td>Samsung</td>\n",
       "      <td>GT-I9505</td>\n",
       "    </tr>\n",
       "    <tr>\n",
       "      <th>2</th>\n",
       "      <td>249.26</td>\n",
       "      <td>253.22</td>\n",
       "      <td>1557.33</td>\n",
       "      <td>22875</td>\n",
       "      <td>android</td>\n",
       "      <td>GT-I9505</td>\n",
       "      <td>Samsung</td>\n",
       "      <td>GT-I9505</td>\n",
       "    </tr>\n",
       "    <tr>\n",
       "      <th>3</th>\n",
       "      <td>249.26</td>\n",
       "      <td>253.22</td>\n",
       "      <td>1557.33</td>\n",
       "      <td>22876</td>\n",
       "      <td>android</td>\n",
       "      <td>GT-I9505</td>\n",
       "      <td>Samsung</td>\n",
       "      <td>GT-I9505</td>\n",
       "    </tr>\n",
       "    <tr>\n",
       "      <th>4</th>\n",
       "      <td>83.46</td>\n",
       "      <td>114.06</td>\n",
       "      <td>3114.67</td>\n",
       "      <td>22880</td>\n",
       "      <td>android</td>\n",
       "      <td>GT-I9505</td>\n",
       "      <td>Samsung</td>\n",
       "      <td>GT-I9505</td>\n",
       "    </tr>\n",
       "  </tbody>\n",
       "</table>\n",
       "</div>"
      ],
      "text/plain": [
       "   outgoing_mins_per_month  outgoing_sms_per_month  monthly_mb  use_id  \\\n",
       "0                    21.97                    4.82     1557.33   22787   \n",
       "1                    69.80                   14.70    25955.55   22801   \n",
       "2                   249.26                  253.22     1557.33   22875   \n",
       "3                   249.26                  253.22     1557.33   22876   \n",
       "4                    83.46                  114.06     3114.67   22880   \n",
       "\n",
       "  platform    device Branding     Model  \n",
       "0  android  GT-I9505  Samsung  GT-I9505  \n",
       "1  android  GT-I9505  Samsung  GT-I9505  \n",
       "2  android  GT-I9505  Samsung  GT-I9505  \n",
       "3  android  GT-I9505  Samsung  GT-I9505  \n",
       "4  android  GT-I9505  Samsung  GT-I9505  "
      ]
     },
     "execution_count": 94,
     "metadata": {},
     "output_type": "execute_result"
    }
   ],
   "source": [
    "dfKetQua.head(5)"
   ]
  },
  {
   "cell_type": "markdown",
   "metadata": {},
   "source": [
    "6. Hãy liệt kê 5 dòng đầu tiên các mẫu thiết bị (cột device) bắt đầu bằng GT"
   ]
  },
  {
   "cell_type": "code",
   "execution_count": 95,
   "metadata": {},
   "outputs": [
    {
     "data": {
      "text/html": [
       "<div>\n",
       "<style scoped>\n",
       "    .dataframe tbody tr th:only-of-type {\n",
       "        vertical-align: middle;\n",
       "    }\n",
       "\n",
       "    .dataframe tbody tr th {\n",
       "        vertical-align: top;\n",
       "    }\n",
       "\n",
       "    .dataframe thead th {\n",
       "        text-align: right;\n",
       "    }\n",
       "</style>\n",
       "<table border=\"1\" class=\"dataframe\">\n",
       "  <thead>\n",
       "    <tr style=\"text-align: right;\">\n",
       "      <th></th>\n",
       "      <th>outgoing_mins_per_month</th>\n",
       "      <th>outgoing_sms_per_month</th>\n",
       "      <th>monthly_mb</th>\n",
       "      <th>use_id</th>\n",
       "      <th>platform</th>\n",
       "      <th>device</th>\n",
       "      <th>Branding</th>\n",
       "      <th>Model</th>\n",
       "    </tr>\n",
       "  </thead>\n",
       "  <tbody>\n",
       "    <tr>\n",
       "      <th>0</th>\n",
       "      <td>21.97</td>\n",
       "      <td>4.82</td>\n",
       "      <td>1557.33</td>\n",
       "      <td>22787</td>\n",
       "      <td>android</td>\n",
       "      <td>GT-I9505</td>\n",
       "      <td>Samsung</td>\n",
       "      <td>GT-I9505</td>\n",
       "    </tr>\n",
       "    <tr>\n",
       "      <th>1</th>\n",
       "      <td>69.80</td>\n",
       "      <td>14.70</td>\n",
       "      <td>25955.55</td>\n",
       "      <td>22801</td>\n",
       "      <td>android</td>\n",
       "      <td>GT-I9505</td>\n",
       "      <td>Samsung</td>\n",
       "      <td>GT-I9505</td>\n",
       "    </tr>\n",
       "    <tr>\n",
       "      <th>2</th>\n",
       "      <td>249.26</td>\n",
       "      <td>253.22</td>\n",
       "      <td>1557.33</td>\n",
       "      <td>22875</td>\n",
       "      <td>android</td>\n",
       "      <td>GT-I9505</td>\n",
       "      <td>Samsung</td>\n",
       "      <td>GT-I9505</td>\n",
       "    </tr>\n",
       "    <tr>\n",
       "      <th>3</th>\n",
       "      <td>249.26</td>\n",
       "      <td>253.22</td>\n",
       "      <td>1557.33</td>\n",
       "      <td>22876</td>\n",
       "      <td>android</td>\n",
       "      <td>GT-I9505</td>\n",
       "      <td>Samsung</td>\n",
       "      <td>GT-I9505</td>\n",
       "    </tr>\n",
       "    <tr>\n",
       "      <th>4</th>\n",
       "      <td>83.46</td>\n",
       "      <td>114.06</td>\n",
       "      <td>3114.67</td>\n",
       "      <td>22880</td>\n",
       "      <td>android</td>\n",
       "      <td>GT-I9505</td>\n",
       "      <td>Samsung</td>\n",
       "      <td>GT-I9505</td>\n",
       "    </tr>\n",
       "  </tbody>\n",
       "</table>\n",
       "</div>"
      ],
      "text/plain": [
       "   outgoing_mins_per_month  outgoing_sms_per_month  monthly_mb  use_id  \\\n",
       "0                    21.97                    4.82     1557.33   22787   \n",
       "1                    69.80                   14.70    25955.55   22801   \n",
       "2                   249.26                  253.22     1557.33   22875   \n",
       "3                   249.26                  253.22     1557.33   22876   \n",
       "4                    83.46                  114.06     3114.67   22880   \n",
       "\n",
       "  platform    device Branding     Model  \n",
       "0  android  GT-I9505  Samsung  GT-I9505  \n",
       "1  android  GT-I9505  Samsung  GT-I9505  \n",
       "2  android  GT-I9505  Samsung  GT-I9505  \n",
       "3  android  GT-I9505  Samsung  GT-I9505  \n",
       "4  android  GT-I9505  Samsung  GT-I9505  "
      ]
     },
     "execution_count": 95,
     "metadata": {},
     "output_type": "execute_result"
    }
   ],
   "source": [
    "dfKetQua[dfKetQua['device'].str.startswith('GT')].head(5)"
   ]
  },
  {
   "cell_type": "markdown",
   "metadata": {},
   "source": [
    "7. Hãy thống kê trung bình số phút hàng tháng, trung bình sms và trung bình data, số lượng \n",
    "sử dụng của các nhãn hàng "
   ]
  },
  {
   "cell_type": "code",
   "execution_count": 97,
   "metadata": {},
   "outputs": [
    {
     "data": {
      "text/html": [
       "<div>\n",
       "<style scoped>\n",
       "    .dataframe tbody tr th:only-of-type {\n",
       "        vertical-align: middle;\n",
       "    }\n",
       "\n",
       "    .dataframe tbody tr th {\n",
       "        vertical-align: top;\n",
       "    }\n",
       "\n",
       "    .dataframe thead th {\n",
       "        text-align: right;\n",
       "    }\n",
       "</style>\n",
       "<table border=\"1\" class=\"dataframe\">\n",
       "  <thead>\n",
       "    <tr style=\"text-align: right;\">\n",
       "      <th></th>\n",
       "      <th>outgoing_mins_per_month</th>\n",
       "      <th>outgoing_sms_per_month</th>\n",
       "      <th>monthly_mb</th>\n",
       "      <th>use_id</th>\n",
       "    </tr>\n",
       "    <tr>\n",
       "      <th>Branding</th>\n",
       "      <th></th>\n",
       "      <th></th>\n",
       "      <th></th>\n",
       "      <th></th>\n",
       "    </tr>\n",
       "  </thead>\n",
       "  <tbody>\n",
       "    <tr>\n",
       "      <th>HTC</th>\n",
       "      <td>299.842955</td>\n",
       "      <td>93.059318</td>\n",
       "      <td>5144.077955</td>\n",
       "      <td>44</td>\n",
       "    </tr>\n",
       "    <tr>\n",
       "      <th>Huawei</th>\n",
       "      <td>81.526667</td>\n",
       "      <td>9.500000</td>\n",
       "      <td>1561.226667</td>\n",
       "      <td>3</td>\n",
       "    </tr>\n",
       "    <tr>\n",
       "      <th>LGE</th>\n",
       "      <td>111.530000</td>\n",
       "      <td>12.760000</td>\n",
       "      <td>1557.330000</td>\n",
       "      <td>2</td>\n",
       "    </tr>\n",
       "    <tr>\n",
       "      <th>Lava</th>\n",
       "      <td>60.650000</td>\n",
       "      <td>261.900000</td>\n",
       "      <td>12458.670000</td>\n",
       "      <td>2</td>\n",
       "    </tr>\n",
       "    <tr>\n",
       "      <th>Lenovo</th>\n",
       "      <td>215.920000</td>\n",
       "      <td>12.930000</td>\n",
       "      <td>1557.330000</td>\n",
       "      <td>2</td>\n",
       "    </tr>\n",
       "    <tr>\n",
       "      <th>Motorola</th>\n",
       "      <td>95.127500</td>\n",
       "      <td>65.666250</td>\n",
       "      <td>3946.500000</td>\n",
       "      <td>16</td>\n",
       "    </tr>\n",
       "    <tr>\n",
       "      <th>OnePlus</th>\n",
       "      <td>354.855000</td>\n",
       "      <td>48.330000</td>\n",
       "      <td>6575.410000</td>\n",
       "      <td>6</td>\n",
       "    </tr>\n",
       "    <tr>\n",
       "      <th>Samsung</th>\n",
       "      <td>191.010093</td>\n",
       "      <td>92.390463</td>\n",
       "      <td>4017.318889</td>\n",
       "      <td>108</td>\n",
       "    </tr>\n",
       "    <tr>\n",
       "      <th>Sony</th>\n",
       "      <td>177.315625</td>\n",
       "      <td>40.176250</td>\n",
       "      <td>3212.000625</td>\n",
       "      <td>16</td>\n",
       "    </tr>\n",
       "    <tr>\n",
       "      <th>Vodafone</th>\n",
       "      <td>42.750000</td>\n",
       "      <td>46.830000</td>\n",
       "      <td>5191.120000</td>\n",
       "      <td>1</td>\n",
       "    </tr>\n",
       "    <tr>\n",
       "      <th>ZTE</th>\n",
       "      <td>42.750000</td>\n",
       "      <td>46.830000</td>\n",
       "      <td>5191.120000</td>\n",
       "      <td>1</td>\n",
       "    </tr>\n",
       "  </tbody>\n",
       "</table>\n",
       "</div>"
      ],
      "text/plain": [
       "          outgoing_mins_per_month  outgoing_sms_per_month    monthly_mb  \\\n",
       "Branding                                                                  \n",
       "HTC                    299.842955               93.059318   5144.077955   \n",
       "Huawei                  81.526667                9.500000   1561.226667   \n",
       "LGE                    111.530000               12.760000   1557.330000   \n",
       "Lava                    60.650000              261.900000  12458.670000   \n",
       "Lenovo                 215.920000               12.930000   1557.330000   \n",
       "Motorola                95.127500               65.666250   3946.500000   \n",
       "OnePlus                354.855000               48.330000   6575.410000   \n",
       "Samsung                191.010093               92.390463   4017.318889   \n",
       "Sony                   177.315625               40.176250   3212.000625   \n",
       "Vodafone                42.750000               46.830000   5191.120000   \n",
       "ZTE                     42.750000               46.830000   5191.120000   \n",
       "\n",
       "          use_id  \n",
       "Branding          \n",
       "HTC           44  \n",
       "Huawei         3  \n",
       "LGE            2  \n",
       "Lava           2  \n",
       "Lenovo         2  \n",
       "Motorola      16  \n",
       "OnePlus        6  \n",
       "Samsung      108  \n",
       "Sony          16  \n",
       "Vodafone       1  \n",
       "ZTE            1  "
      ]
     },
     "execution_count": 97,
     "metadata": {},
     "output_type": "execute_result"
    }
   ],
   "source": [
    "dfKetQua.groupby('Branding').agg({\n",
    "    'outgoing_mins_per_month': 'mean', \n",
    "    'outgoing_sms_per_month': 'mean', \n",
    "    'monthly_mb': 'mean',              \n",
    "    'use_id': 'count'                 \n",
    "})"
   ]
  },
  {
   "cell_type": "markdown",
   "metadata": {},
   "source": [
    "8. Trực quan số lượng người dùng các nhãn hàng "
   ]
  },
  {
   "cell_type": "code",
   "execution_count": 98,
   "metadata": {},
   "outputs": [
    {
     "data": {
      "image/png": "[encoded data removed]",
      "text/plain": [
       "<Figure size 432x288 with 1 Axes>"
      ]
     },
     "metadata": {
      "needs_background": "light"
     },
     "output_type": "display_data"
    }
   ],
   "source": [
    "sns.countplot(y= \"Branding\" ,data=  dfKetQua)\n",
    "plt.show()\n"
   ]
  },
  {
   "cell_type": "markdown",
   "metadata": {},
   "source": [
    "9. Trực quan hóa dữ liệu trung bình phút gọi, trung bình sms và dung lượng sử dụng trên \n",
    "từng nhóm nhãn hàng bán lẻ "
   ]
  },
  {
   "cell_type": "code",
   "execution_count": 105,
   "metadata": {},
   "outputs": [
    {
     "data": {
      "image/png": "[encoded data removed]",
      "text/plain": [
       "<Figure size 432x288 with 1 Axes>"
      ]
     },
     "metadata": {
      "needs_background": "light"
     },
     "output_type": "display_data"
    }
   ],
   "source": [
    "sns.barplot(x = 'outgoing_mins_per_month' ,y='Branding', data=dfKetQua ,errorbar=None )\n",
    "plt.show()"
   ]
  },
  {
   "cell_type": "markdown",
   "metadata": {},
   "source": [
    "10. Khảo sát tương quan giữa phút gọi, sms và dung lượng trên từng nhóm nhãn hàng"
   ]
  },
  {
   "cell_type": "code",
   "execution_count": 109,
   "metadata": {},
   "outputs": [
    {
     "data": {
      "image/png": "[encoded data removed]",
      "text/plain": [
       "<Figure size 432x288 with 1 Axes>"
      ]
     },
     "metadata": {
      "needs_background": "light"
     },
     "output_type": "display_data"
    }
   ],
   "source": [
    "sns.scatterplot(\n",
    "    y = 'outgoing_sms_per_month',\n",
    "    x = 'outgoing_mins_per_month',\n",
    "    hue='Branding',\n",
    "    data= dfKetQua\n",
    ")\n",
    "plt.show()"
   ]
  },
  {
   "cell_type": "markdown",
   "metadata": {},
   "source": [
    "11. Hãy kiểm định xem trung bình outgoing_mins_per_month có bằng 200 phút "
   ]
  },
  {
   "cell_type": "code",
   "execution_count": 112,
   "metadata": {},
   "outputs": [
    {
     "data": {
      "text/plain": [
       "Ttest_1sampResult(statistic=0.3678324474067914, pvalue=0.7133871524810332)"
      ]
     },
     "execution_count": 112,
     "metadata": {},
     "output_type": "execute_result"
    }
   ],
   "source": [
    "stats.ttest_1samp(dfKetQua['outgoing_mins_per_month'], popmean=200)\n",
    "#apha = 0.05\n",
    "# p-value = 0.713 >  apha \n",
    "#Chấp nhận H0"
   ]
  },
  {
   "cell_type": "markdown",
   "metadata": {},
   "source": [
    "12. Hãy kiểm định xem trung bình outgoing_sms_per_month có bằng 100 tin nhắn "
   ]
  },
  {
   "cell_type": "code",
   "execution_count": 113,
   "metadata": {},
   "outputs": [
    {
     "data": {
      "text/plain": [
       "Ttest_1sampResult(statistic=-2.9567085781961246, pvalue=0.0034834938502051878)"
      ]
     },
     "execution_count": 113,
     "metadata": {},
     "output_type": "execute_result"
    }
   ],
   "source": [
    "stats.ttest_1samp(dfKetQua['outgoing_sms_per_month'], popmean=100)\n",
    "#apha = 0.05\n",
    "# p-value = 0.003 <  apha \n",
    "#Bác bỏ H0, không đủ bằng chức để dữ liệu outgoing_sms_per_month bằng 100"
   ]
  },
  {
   "cell_type": "markdown",
   "metadata": {},
   "source": [
    "13. Hãy kiểm định xem trung bình monthly_mb có bằng 2048 mb "
   ]
  },
  {
   "cell_type": "code",
   "execution_count": 114,
   "metadata": {},
   "outputs": [
    {
     "data": {
      "text/plain": [
       "Ttest_1sampResult(statistic=5.918078326415772, pvalue=1.3950238813156428e-08)"
      ]
     },
     "execution_count": 114,
     "metadata": {},
     "output_type": "execute_result"
    }
   ],
   "source": [
    "stats.ttest_1samp(dfKetQua['monthly_mb'], popmean=2048)\n",
    "#apha = 0.05\n",
    "# p-value = 1.39*10^-8 <  apha \n",
    "##Bác bỏ H0, không đủ bằng chức để dữ liệu monthly_mb bằng 2048"
   ]
  },
  {
   "cell_type": "markdown",
   "metadata": {},
   "source": [
    "14. Hãy tạo ma trận tương quan giữa [outgoing_mins_per_month, outgoing_sms_per_month, \n",
    "monthly_mb] và sắp xếp tăng dần về mức độ tương quan "
   ]
  },
  {
   "cell_type": "code",
   "execution_count": 115,
   "metadata": {},
   "outputs": [
    {
     "data": {
      "image/png": "[encoded data removed]",
      "text/plain": [
       "<Figure size 432x288 with 2 Axes>"
      ]
     },
     "metadata": {
      "needs_background": "light"
     },
     "output_type": "display_data"
    }
   ],
   "source": [
    "sns.heatmap(dfKetQua[['outgoing_mins_per_month','outgoing_sms_per_month','monthly_mb']].corr(), vmax=1.0, square=False).xaxis.tick_top()"
   ]
  },
  {
   "cell_type": "markdown",
   "metadata": {},
   "source": [
    "15. Kiểm định xem outgoing_mins_per_month, outgoing_sms_per_month có tương quan "
   ]
  },
  {
   "cell_type": "code",
   "execution_count": 119,
   "metadata": {},
   "outputs": [
    {
     "data": {
      "text/plain": [
       "(-0.01649444168531942, 0.8162223636414565)"
      ]
     },
     "execution_count": 119,
     "metadata": {},
     "output_type": "execute_result"
    }
   ],
   "source": [
    "from scipy.stats.stats import pearsonr\n",
    "\n",
    "pearsonr(dfKetQua['outgoing_mins_per_month'], dfKetQua['outgoing_sms_per_month'])\n",
    "\n",
    "#apha = 0.05\n",
    "# p-value =0.8162  > apha \n",
    "#Chấp nhận H0, không có đủ bằng chứng để kết luận rằng có mối quan hệ tương quan giữa outgoing_mins_per_month và outgoing_sms_per_month\n",
    "#Hệ số tương quan rất gần 0 (-0.0165), cho thấy mối quan hệ giữa hai biến này rất yếu, gần như không có.\n"
   ]
  },
  {
   "cell_type": "markdown",
   "metadata": {},
   "source": [
    "16. Hãy kiểm định xem có mối quan hệ nào giữa platform và branding "
   ]
  },
  {
   "cell_type": "code",
   "execution_count": 131,
   "metadata": {},
   "outputs": [
    {
     "data": {
      "image/png": "[encoded data removed]",
      "text/plain": [
       "<Figure size 432x288 with 2 Axes>"
      ]
     },
     "metadata": {
      "needs_background": "light"
     },
     "output_type": "display_data"
    },
    {
     "name": "stdout",
     "output_type": "stream",
     "text": [
      "p value is 1.0\n",
      "Independent (H0 holds true)\n"
     ]
    }
   ],
   "source": [
    "from scipy.stats import chi2_contingency\n",
    "\n",
    "crosdata = pd.crosstab(dfKetQua['platform'], [dfKetQua['Branding']], rownames=['platform'], colnames=['Branding'])\n",
    "crosdata\n",
    "\n",
    "import matplotlib.pyplot as plt\n",
    "plt.pcolor(crosdata,cmap='RdBu')\n",
    "plt.colorbar()\n",
    "plt.show()\n",
    "\n",
    "stat, p, dof, expected = chi2_contingency(crosdata)\n",
    " \n",
    "alpha = 0.05\n",
    "print(\"p value is \" + str(p))\n",
    "if p <= alpha:\n",
    "    print('Dependent (reject H0)')\n",
    "else:\n",
    "    print('Independent (H0 holds true)')\n",
    "\n",
    "\n",
    "\n",
    "\n"
   ]
  },
  {
   "cell_type": "markdown",
   "metadata": {},
   "source": [
    "17. Hãy kiểm định xem có mối quan hệ nào giữa monthly_mb và platform"
   ]
  },
  {
   "cell_type": "code",
   "execution_count": 125,
   "metadata": {},
   "outputs": [
    {
     "data": {
      "image/png": "[encoded data removed]",
      "text/plain": [
       "<Figure size 432x288 with 2 Axes>"
      ]
     },
     "metadata": {
      "needs_background": "light"
     },
     "output_type": "display_data"
    },
    {
     "name": "stdout",
     "output_type": "stream",
     "text": [
      "p value is 1.0\n",
      "Independent (H0 holds true)\n"
     ]
    }
   ],
   "source": [
    "crosdata = pd.crosstab(dfKetQua['monthly_mb'], [dfKetQua['platform']], rownames=['monthly_mb'], colnames=['platform'])\n",
    "crosdata\n",
    "\n",
    "import matplotlib.pyplot as plt\n",
    "plt.pcolor(crosdata,cmap='RdBu')\n",
    "plt.colorbar()\n",
    "plt.show()\n",
    "\n",
    "stat, p, dof, expected = chi2_contingency(crosdata)\n",
    " \n",
    "alpha = 0.05\n",
    "print(\"p value is \" + str(p))\n",
    "if p <= alpha:\n",
    "    print('Dependent (reject H0)')\n",
    "else:\n",
    "    print('Independent (H0 holds true)')\n"
   ]
  },
  {
   "cell_type": "markdown",
   "metadata": {},
   "source": [
    "18. Hãy kiểm định xem có mối quan hệ nào giữa monthly_mb và platform theo loại branding "
   ]
  },
  {
   "cell_type": "code",
   "execution_count": 137,
   "metadata": {},
   "outputs": [
    {
     "name": "stdout",
     "output_type": "stream",
     "text": [
      "                      df        sum_sq       mean_sq         F    PR(>F)\n",
      "platform             0.0  0.000000e+00           NaN       NaN       NaN\n",
      "Branding            10.0  2.792153e+08  2.792153e+07  0.974799  0.466796\n",
      "platform:Branding    0.0  0.000000e+00           NaN       NaN       NaN\n",
      "Residual           190.0  5.442239e+09  2.864336e+07       NaN       NaN\n"
     ]
    },
    {
     "name": "stderr",
     "output_type": "stream",
     "text": [
      "d:\\USERS\\Anaconda3\\lib\\site-packages\\scipy\\stats\\_distn_infrastructure.py:879: RuntimeWarning: invalid value encountered in greater\n",
      "  return (self.a < x) & (x < self.b)\n",
      "d:\\USERS\\Anaconda3\\lib\\site-packages\\scipy\\stats\\_distn_infrastructure.py:879: RuntimeWarning: invalid value encountered in less\n",
      "  return (self.a < x) & (x < self.b)\n",
      "d:\\USERS\\Anaconda3\\lib\\site-packages\\scipy\\stats\\_distn_infrastructure.py:1821: RuntimeWarning: invalid value encountered in less_equal\n",
      "  cond2 = cond0 & (x <= self.a)\n"
     ]
    }
   ],
   "source": [
    "import statsmodels.api as sm\n",
    "from statsmodels.formula.api import ols\n",
    "model = ols('monthly_mb ~ platform + Branding + platform:Branding',data=dfKetQua).fit()\n",
    "result = sm.stats.anova_lm(model, type=2)\n",
    "print(result)\n",
    "#apha = 0.05\n",
    "# p-value =0.466796  > apha \n",
    "#Chấp nhận H0, là monthly_mb =platform "
   ]
  },
  {
   "cell_type": "markdown",
   "metadata": {},
   "source": [
    "19. Phân tích sự ảnh hưởng của outgoing_mins_per_month, outgoing_sms_per_month đến \n",
    "monthly_mb dựa trên mô hình hồi quy tuyến tính "
   ]
  },
  {
   "cell_type": "code",
   "execution_count": 144,
   "metadata": {},
   "outputs": [
    {
     "data": {
      "image/png": "[encoded data removed]",
      "text/plain": [
       "<Figure size 1080x432 with 2 Axes>"
      ]
     },
     "metadata": {
      "needs_background": "light"
     },
     "output_type": "display_data"
    }
   ],
   "source": [
    "\n",
    "fig, axes = plt.subplots(1, 2, figsize=(15, 6))\n",
    "    \n",
    "sns.scatterplot(data=dfKetQua, x='outgoing_mins_per_month', y='monthly_mb', ax=axes[0])\n",
    "axes[0].set_title('Monthly MB vs Outgoing Minutes')\n",
    "    \n",
    "sns.scatterplot(data=dfKetQua, x='outgoing_sms_per_month', y='monthly_mb', ax=axes[1])\n",
    "axes[1].set_title('Monthly MB vs Outgoing SMS')\n",
    "    \n",
    "plt.tight_layout()\n",
    "plt.show()\n",
    "\n",
    "\n"
   ]
  }
 ],
 "metadata": {
  "kernelspec": {
   "display_name": "base",
   "language": "python",
   "name": "python3"
  },
  "language_info": {
   "codemirror_mode": {
    "name": "ipython",
    "version": 3
   },
   "file_extension": ".py",
   "mimetype": "text/x-python",
   "name": "python",
   "nbconvert_exporter": "python",
   "pygments_lexer": "ipython3",
   "version": "3.7.1"
  }
 },
 "nbformat": 4,
 "nbformat_minor": 2
}
